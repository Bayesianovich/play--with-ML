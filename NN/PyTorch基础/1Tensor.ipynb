{
 "cells": [
  {
   "cell_type": "code",
   "execution_count": 53,
   "metadata": {},
   "outputs": [
    {
     "data": {
      "text/plain": [
       "'2.2.0.dev20231118'"
      ]
     },
     "execution_count": 53,
     "metadata": {},
     "output_type": "execute_result"
    }
   ],
   "source": [
    "import torch\n",
    "torch.__version__"
   ]
  },
  {
   "cell_type": "code",
   "execution_count": 54,
   "metadata": {},
   "outputs": [
    {
     "name": "stdout",
     "output_type": "stream",
     "text": [
      "tensor([[1, 2],\n",
      "        [3, 4]]) <built-in method type of Tensor object at 0x138c4fa10>\n"
     ]
    }
   ],
   "source": [
    "x = [[1,2],[3,4]]\n",
    "y = torch.tensor(x)\n",
    "print(y,y.type)"
   ]
  },
  {
   "cell_type": "code",
   "execution_count": 55,
   "metadata": {},
   "outputs": [
    {
     "name": "stdout",
     "output_type": "stream",
     "text": [
      "tensor([[0., 0., 0.],\n",
      "        [0., 0., 0.]])\n",
      "tensor([0, 0, 0])\n"
     ]
    }
   ],
   "source": [
    "x = torch.zeros(2,3)\n",
    "print(x)\n",
    "\n",
    "x = torch.tensor([1,2,3])\n",
    "y = torch.zeros_like(x)\n",
    "\n",
    "print(y)"
   ]
  },
  {
   "cell_type": "code",
   "execution_count": 56,
   "metadata": {},
   "outputs": [
    {
     "name": "stdout",
     "output_type": "stream",
     "text": [
      "x= tensor([[1., 1., 1.],\n",
      "        [1., 1., 1.]])\n"
     ]
    }
   ],
   "source": [
    "x = torch.ones(2,3)\n",
    "print('x=',x)"
   ]
  },
  {
   "cell_type": "code",
   "execution_count": 57,
   "metadata": {},
   "outputs": [
    {
     "data": {
      "text/plain": [
       "tensor([[ 1.3331,  0.2929,  0.5627],\n",
       "        [ 0.3387, -0.3099,  0.0162]])"
      ]
     },
     "execution_count": 57,
     "metadata": {},
     "output_type": "execute_result"
    }
   ],
   "source": [
    "x = torch.randn(2,3)\n",
    "x"
   ]
  },
  {
   "cell_type": "code",
   "execution_count": 58,
   "metadata": {},
   "outputs": [
    {
     "data": {
      "text/plain": [
       "tensor([[0.0334, 0.6844, 0.5760],\n",
       "        [0.7546, 0.3047, 0.2164]])"
      ]
     },
     "execution_count": 58,
     "metadata": {},
     "output_type": "execute_result"
    }
   ],
   "source": [
    "x = torch.rand(2,3)\n",
    "x"
   ]
  },
  {
   "cell_type": "code",
   "execution_count": 59,
   "metadata": {},
   "outputs": [
    {
     "name": "stdout",
     "output_type": "stream",
     "text": [
      "torch.Size([2, 3, 4])\n",
      "torch.Size([2, 3, 4])\n",
      "3\n",
      "24\n",
      "24\n"
     ]
    }
   ],
   "source": [
    "x = torch.rand(2,3,4)\n",
    "print(x.shape)\n",
    "print(x.size())\n",
    "print(x.ndimension())\n",
    "print(x.numel())\n",
    "print(x.nelement())"
   ]
  },
  {
   "cell_type": "code",
   "execution_count": 60,
   "metadata": {},
   "outputs": [
    {
     "name": "stdout",
     "output_type": "stream",
     "text": [
      "x= tensor([[1, 2, 3],\n",
      "        [3, 4, 5]])\n",
      "y= tensor([[1, 3],\n",
      "        [2, 4],\n",
      "        [3, 5]])\n",
      "z= tensor([[1, 3],\n",
      "        [2, 4],\n",
      "        [3, 5]])\n"
     ]
    }
   ],
   "source": [
    "x = torch.tensor([[1,2,3],[3,4,5]])\n",
    "print('x=',x)\n",
    "\n",
    "y = x.t()\n",
    "print('y=',y)\n",
    "\n",
    "z = x.transpose(0,1)\n",
    "print('z=',z)\n"
   ]
  },
  {
   "cell_type": "code",
   "execution_count": 61,
   "metadata": {},
   "outputs": [
    {
     "name": "stdout",
     "output_type": "stream",
     "text": [
      "torch.Size([1, 3, 2])\n"
     ]
    }
   ],
   "source": [
    "x = torch.rand(1,2,3)\n",
    "y = torch.transpose(x,1,2)\n",
    "print(y.shape)"
   ]
  },
  {
   "cell_type": "code",
   "execution_count": 62,
   "metadata": {},
   "outputs": [
    {
     "name": "stdout",
     "output_type": "stream",
     "text": [
      "torch.Size([1, 3, 2])\n"
     ]
    }
   ],
   "source": [
    "x.transpose_(1,2)\n",
    "print(x.shape)"
   ]
  },
  {
   "cell_type": "code",
   "execution_count": 63,
   "metadata": {},
   "outputs": [
    {
     "name": "stdout",
     "output_type": "stream",
     "text": [
      "torch.LongTensor torch.int64\n",
      "tensor([[-1, -1, -1],\n",
      "        [-1, -1, -1]])\n"
     ]
    }
   ],
   "source": [
    "x = torch.LongTensor(2,3)\n",
    "x.fill_(-1)\n",
    "\n",
    "print(x.type(),x.dtype)\n",
    "print(x)"
   ]
  },
  {
   "cell_type": "code",
   "execution_count": 64,
   "metadata": {},
   "outputs": [
    {
     "name": "stdout",
     "output_type": "stream",
     "text": [
      "torch.int32 torch.float32\n"
     ]
    }
   ],
   "source": [
    "y = x.int()\n",
    "z = x.float()\n",
    "\n",
    "print(y.dtype,z.dtype)"
   ]
  },
  {
   "cell_type": "code",
   "execution_count": 65,
   "metadata": {},
   "outputs": [
    {
     "name": "stdout",
     "output_type": "stream",
     "text": [
      "torch.mps.FloatTensor torch.FloatTensor\n",
      "torch.FloatTensor\n"
     ]
    }
   ],
   "source": [
    "x = torch.randn(2,3)\n",
    "y = x.to('mps')\n",
    "print(y.type(),x.type())\n",
    "z = y.to('cpu')\n",
    "print(z.type())"
   ]
  },
  {
   "cell_type": "code",
   "execution_count": 66,
   "metadata": {},
   "outputs": [
    {
     "name": "stdout",
     "output_type": "stream",
     "text": [
      "torch.mps.FloatTensor\n"
     ]
    }
   ],
   "source": [
    "mps = torch.device('mps')\n",
    "cpu = torch.device('cpu')\n",
    "\n",
    "x = torch.randn(2,3,device=mps)\n",
    "y = torch.randn(2,3,device=cpu)\n",
    "z = x + y.to(mps)\n",
    "print(z.type())"
   ]
  },
  {
   "cell_type": "code",
   "execution_count": 67,
   "metadata": {},
   "outputs": [
    {
     "name": "stdout",
     "output_type": "stream",
     "text": [
      "tensor([[1, 2, 3],\n",
      "        [3, 4, 5]])\n",
      "[[1 2 3]\n",
      " [3 4 5]]\n"
     ]
    }
   ],
   "source": [
    "import numpy as np\n",
    "x = np.array([[1,2,3],[3,4,5]])\n",
    "\n",
    "y = torch.from_numpy(x)\n",
    "print(y)\n",
    "print(x)"
   ]
  },
  {
   "cell_type": "code",
   "execution_count": 68,
   "metadata": {},
   "outputs": [
    {
     "name": "stdout",
     "output_type": "stream",
     "text": [
      "[[1 2 3]\n",
      " [3 4 5]]\n"
     ]
    }
   ],
   "source": [
    "z = y.numpy()\n",
    "print(z)"
   ]
  },
  {
   "cell_type": "code",
   "execution_count": 69,
   "metadata": {},
   "outputs": [
    {
     "name": "stdout",
     "output_type": "stream",
     "text": [
      "tensor([[0, 0, 0],\n",
      "        [0, 0, 0]]) \n",
      "\n",
      "[[0 0 0]\n",
      " [0 0 0]] \n",
      "\n",
      "[[0 0 0]\n",
      " [0 0 0]] \n",
      "\n"
     ]
    }
   ],
   "source": [
    "y.fill_(0)\n",
    "print(y,'\\n')\n",
    "print(x,'\\n')\n",
    "print(z,'\\n')"
   ]
  },
  {
   "cell_type": "code",
   "execution_count": 70,
   "metadata": {},
   "outputs": [
    {
     "name": "stdout",
     "output_type": "stream",
     "text": [
      "tensor([[1],\n",
      "        [2]])\n"
     ]
    }
   ],
   "source": [
    "x = torch.tensor([[1],[2]])\n",
    "print(x)\n",
    "y = torch.tensor([[3],[4]])"
   ]
  },
  {
   "cell_type": "code",
   "execution_count": 71,
   "metadata": {},
   "outputs": [
    {
     "name": "stdout",
     "output_type": "stream",
     "text": [
      "torch.Size([2, 1])\n",
      "torch.LongTensor\n",
      "tensor([[1.],\n",
      "        [2.]])\n",
      "tensor([[3.],\n",
      "        [4.]])\n"
     ]
    }
   ],
   "source": [
    "print(x.shape)\n",
    "print(x.type())\n",
    "\n",
    "x = x.float()\n",
    "y = y.float()\n",
    "print(x)\n",
    "print(y)"
   ]
  },
  {
   "cell_type": "code",
   "execution_count": 72,
   "metadata": {},
   "outputs": [
    {
     "name": "stdout",
     "output_type": "stream",
     "text": [
      "z1 tensor([[4.],\n",
      "        [6.]])\n",
      "z2 tensor([[3.],\n",
      "        [8.]])\n"
     ]
    }
   ],
   "source": [
    "z1 = x + y\n",
    "print('z1',z1)\n",
    "z2 = x * y\n",
    "print('z2',z2) "
   ]
  },
  {
   "cell_type": "code",
   "execution_count": 73,
   "metadata": {},
   "outputs": [
    {
     "name": "stdout",
     "output_type": "stream",
     "text": [
      "tensor([[3., 4.],\n",
      "        [6., 8.]])\n",
      "tensor([[11.]])\n"
     ]
    }
   ],
   "source": [
    "z1 = torch.mm(x,y.t())\n",
    "z2 = torch.mm(x.t(),y)\n",
    "print(z1)\n",
    "print(z2)"
   ]
  },
  {
   "cell_type": "code",
   "execution_count": 74,
   "metadata": {},
   "outputs": [
    {
     "name": "stdout",
     "output_type": "stream",
     "text": [
      "tensor(18.)\n",
      "tensor(3.)\n"
     ]
    }
   ],
   "source": [
    "x = torch.tensor([[1,2,3],[3,4,5]]).float()\n",
    "\n",
    "x1 = x.sum()\n",
    "z2 = x.mean()\n",
    "print(x1)\n",
    "print(z2)"
   ]
  },
  {
   "cell_type": "markdown",
   "metadata": {},
   "source": [
    "dim=0 指的是沿着行的方向（向下），也就是列。\n",
    "\n",
    "dim=1 指的是沿着列的方向（向右），也就是行。"
   ]
  },
  {
   "cell_type": "code",
   "execution_count": 75,
   "metadata": {},
   "outputs": [
    {
     "name": "stdout",
     "output_type": "stream",
     "text": [
      "tensor([ 6., 12.])\n",
      "tensor([4., 6., 8.])\n"
     ]
    }
   ],
   "source": [
    "print(x.sum(dim=1))\n",
    "print(x.sum(dim=0))\n",
    "x = torch.tensor([[1,2,3],[3,4,5]]).float()"
   ]
  },
  {
   "cell_type": "code",
   "execution_count": 76,
   "metadata": {},
   "outputs": [
    {
     "name": "stdout",
     "output_type": "stream",
     "text": [
      "tensor(5.)\n",
      "torch.return_types.max(\n",
      "values=tensor([3., 5.]),\n",
      "indices=tensor([2, 2]))\n"
     ]
    }
   ],
   "source": [
    "print(x.max())\n",
    "print(x.max(dim=1))"
   ]
  },
  {
   "cell_type": "code",
   "execution_count": 77,
   "metadata": {},
   "outputs": [
    {
     "name": "stdout",
     "output_type": "stream",
     "text": [
      "tensor([10., 20.])\n"
     ]
    }
   ],
   "source": [
    "x = torch.tensor([1.0,2.0])\n",
    "y = x.mul(10)\n",
    "print(y)\n",
    "\n"
   ]
  },
  {
   "cell_type": "code",
   "execution_count": 78,
   "metadata": {},
   "outputs": [
    {
     "name": "stdout",
     "output_type": "stream",
     "text": [
      "tensor([1., 2.])\n",
      "tensor([10., 20.])\n"
     ]
    }
   ],
   "source": [
    "print(x)\n",
    "x.mul_(10)\n",
    "print(x)"
   ]
  },
  {
   "cell_type": "code",
   "execution_count": 79,
   "metadata": {},
   "outputs": [
    {
     "name": "stdout",
     "output_type": "stream",
     "text": [
      "tensor([[4],\n",
      "        [6]])\n",
      "tensor([[4],\n",
      "        [6]])\n",
      "tensor([[4],\n",
      "        [6]])\n",
      "tensor([[ 7],\n",
      "        [10]])\n"
     ]
    }
   ],
   "source": [
    "x = torch.tensor([[1],[2]])\n",
    "y = torch.tensor([[3],[4]])\n",
    "\n",
    "print(x + y)\n",
    "print(torch.add(x,y))\n",
    "print(x.add_(y))\n",
    "z = torch.LongTensor(2,1)\n",
    "print(torch.add(x,y,out=z))\n"
   ]
  },
  {
   "cell_type": "code",
   "execution_count": 80,
   "metadata": {},
   "outputs": [
    {
     "name": "stdout",
     "output_type": "stream",
     "text": [
      "tensor([2., 3.])\n",
      "tensor([0.6021, 0.9542])\n"
     ]
    }
   ],
   "source": [
    "x = torch.tensor([4.0,9.0])\n",
    "print(x.sqrt())\n",
    "\n",
    "print(x.log10())"
   ]
  },
  {
   "cell_type": "code",
   "execution_count": 81,
   "metadata": {},
   "outputs": [
    {
     "name": "stdout",
     "output_type": "stream",
     "text": [
      "tensor([0., 9.])\n"
     ]
    }
   ],
   "source": [
    "x = torch.tensor([-4.0,9.0])\n",
    "print(x.relu())"
   ]
  },
  {
   "cell_type": "code",
   "execution_count": 82,
   "metadata": {},
   "outputs": [
    {
     "name": "stdout",
     "output_type": "stream",
     "text": [
      "torch.Size([3, 4])\n"
     ]
    }
   ],
   "source": [
    "x =torch.rand(2,3,4)\n",
    "print(x[1].shape)"
   ]
  },
  {
   "cell_type": "code",
   "execution_count": 83,
   "metadata": {},
   "outputs": [
    {
     "name": "stdout",
     "output_type": "stream",
     "text": [
      "torch.Size([2, 4])\n"
     ]
    }
   ],
   "source": [
    "print(x[1,0:2,:].shape)"
   ]
  },
  {
   "cell_type": "code",
   "execution_count": 84,
   "metadata": {},
   "outputs": [
    {
     "name": "stdout",
     "output_type": "stream",
     "text": [
      "torch.Size([2, 3])\n",
      "torch.Size([3, 2])\n",
      "torch.Size([6])\n"
     ]
    }
   ],
   "source": [
    "x = torch.tensor([[1.,2.,3.],[4.,5.,6.]])\n",
    "z1 = x.view(3,2)\n",
    "z2 = x.view(6)\n",
    "z3 = x.view(2,1,3)\n",
    "print(x.shape)\n",
    "print(z1.shape)\n",
    "print(z2.shape)"
   ]
  },
  {
   "cell_type": "code",
   "execution_count": 85,
   "metadata": {},
   "outputs": [
    {
     "name": "stdout",
     "output_type": "stream",
     "text": [
      "tensor([[1., 2., 3.],\n",
      "        [4., 5., 6.]])\n",
      "tensor([[1., 2.],\n",
      "        [3., 4.],\n",
      "        [5., 6.]])\n",
      "tensor([1., 2., 3., 4., 5., 6.])\n",
      "tensor([[[1., 2., 3.]],\n",
      "\n",
      "        [[4., 5., 6.]]])\n"
     ]
    }
   ],
   "source": [
    "print(x)\n",
    "print(z1)\n",
    "print(z2)\n",
    "print(z3)"
   ]
  },
  {
   "cell_type": "code",
   "execution_count": 86,
   "metadata": {},
   "outputs": [
    {
     "name": "stdout",
     "output_type": "stream",
     "text": [
      "torch.Size([1, 6])\n",
      "torch.Size([3, 2])\n"
     ]
    }
   ],
   "source": [
    "x = torch.randn(2,3)\n",
    "z1 = x.view(-1,6)\n",
    "z2 = x.view(3,-1)\n",
    "print(z1.shape)\n",
    "print(z2.shape)"
   ]
  },
  {
   "cell_type": "code",
   "execution_count": 87,
   "metadata": {},
   "outputs": [
    {
     "name": "stdout",
     "output_type": "stream",
     "text": [
      "tensor([[[1., 1.]],\n",
      "\n",
      "        [[1., 1.]],\n",
      "\n",
      "        [[1., 1.]]])\n"
     ]
    }
   ],
   "source": [
    "x = torch.ones(3,1,2)\n",
    "print(x)"
   ]
  },
  {
   "cell_type": "code",
   "execution_count": 88,
   "metadata": {},
   "outputs": [
    {
     "name": "stdout",
     "output_type": "stream",
     "text": [
      "tensor([[0., 0.]])\n",
      "tensor([[0., 0.]])\n"
     ]
    }
   ],
   "source": [
    "y = x.resize_(1,2)\n",
    "y.fill_(0)\n",
    "\n",
    "print(x)\n",
    "print(y)"
   ]
  },
  {
   "cell_type": "code",
   "execution_count": 89,
   "metadata": {},
   "outputs": [
    {
     "name": "stdout",
     "output_type": "stream",
     "text": [
      "tensor([0., 0., 0., 0., 0., 0., 0., 0.])\n",
      "tensor([0., 0., 0., 0., 0., 0., 0., 0.])\n"
     ]
    }
   ],
   "source": [
    "y = x.resize_(8)\n",
    "y.fill_(0)\n",
    "\n",
    "print(y)\n",
    "print(x)\n"
   ]
  },
  {
   "cell_type": "code",
   "execution_count": 90,
   "metadata": {},
   "outputs": [
    {
     "data": {
      "text/plain": [
       "tensor([[1., 1., 1., 1.],\n",
       "        [1., 1., 0., 0.],\n",
       "        [0., 0., 0., 0.]])"
      ]
     },
     "execution_count": 90,
     "metadata": {},
     "output_type": "execute_result"
    }
   ],
   "source": [
    "x = torch.ones(2,3)\n",
    "y = torch.randn(3,4)\n",
    "\n",
    "x.resize_as_(y)\n"
   ]
  },
  {
   "cell_type": "code",
   "execution_count": 91,
   "metadata": {},
   "outputs": [
    {
     "name": "stdout",
     "output_type": "stream",
     "text": [
      "torch.Size([3, 1, 2])\n",
      "torch.Size([3, 2])\n",
      "torch.Size([1, 3, 2])\n"
     ]
    }
   ],
   "source": [
    "x = torch.randn(3,1,2)\n",
    "z1 = x.squeeze()\n",
    "z2 = z1.unsqueeze(0)\n",
    "\n",
    "print(x.shape)\n",
    "print(z1.shape)\n",
    "print(z2.shape)"
   ]
  },
  {
   "cell_type": "code",
   "execution_count": 92,
   "metadata": {},
   "outputs": [],
   "source": [
    "torch.save(x,'x.pkl')\n",
    "torch.save(y,'y.pkl')"
   ]
  },
  {
   "cell_type": "code",
   "execution_count": 93,
   "metadata": {},
   "outputs": [
    {
     "name": "stdout",
     "output_type": "stream",
     "text": [
      "tensor([[[ 0.5835, -0.8082]],\n",
      "\n",
      "        [[ 1.6106,  0.1673]],\n",
      "\n",
      "        [[ 0.5908, -1.7824]]]) \n",
      "\n",
      "tensor([[ 1.1762, -1.2879,  0.0597, -0.9497],\n",
      "        [ 0.2128, -0.2893,  0.8912, -1.2769],\n",
      "        [-0.8007, -0.9657, -0.6785,  0.5429]])\n"
     ]
    }
   ],
   "source": [
    "x_new = torch.load('x.pkl')\n",
    "y_new = torch.load('y.pkl')\n",
    "\n",
    "print(x_new,'\\n')\n",
    "print(y_new)"
   ]
  },
  {
   "cell_type": "code",
   "execution_count": 94,
   "metadata": {},
   "outputs": [
    {
     "name": "stdout",
     "output_type": "stream",
     "text": [
      "Autograd.ipynb            optim.ipynb               y.pkl\n",
      "Tensor.ipynb              x.pkl                     神经网络模块.ipynb\n"
     ]
    }
   ],
   "source": [
    "ls"
   ]
  },
  {
   "cell_type": "code",
   "execution_count": 97,
   "metadata": {},
   "outputs": [],
   "source": [
    "import pickle\n",
    "\n",
    "with open('y_new.pkl','wb') as f:\n",
    "    pickle.dump(y_new,f)\n",
    "    "
   ]
  },
  {
   "cell_type": "code",
   "execution_count": 98,
   "metadata": {},
   "outputs": [
    {
     "name": "stdout",
     "output_type": "stream",
     "text": [
      "Autograd.ipynb            x.pkl                     神经网络模块.ipynb\n",
      "Tensor.ipynb              y.pkl\n",
      "optim.ipynb               y_new.pkl\n"
     ]
    }
   ],
   "source": [
    "ls"
   ]
  },
  {
   "cell_type": "code",
   "execution_count": 99,
   "metadata": {},
   "outputs": [
    {
     "name": "stdout",
     "output_type": "stream",
     "text": [
      "tensor([[ 1.1762, -1.2879,  0.0597, -0.9497],\n",
      "        [ 0.2128, -0.2893,  0.8912, -1.2769],\n",
      "        [-0.8007, -0.9657, -0.6785,  0.5429]])\n"
     ]
    }
   ],
   "source": [
    "with open('y_new.pkl','rb') as f:\n",
    "    y_new = pickle.load(f)\n",
    "    \n",
    "print(y_new)"
   ]
  },
  {
   "cell_type": "code",
   "execution_count": null,
   "metadata": {},
   "outputs": [],
   "source": []
  }
 ],
 "metadata": {
  "kernelspec": {
   "display_name": "pytorch",
   "language": "python",
   "name": "python3"
  },
  "language_info": {
   "codemirror_mode": {
    "name": "ipython",
    "version": 3
   },
   "file_extension": ".py",
   "mimetype": "text/x-python",
   "name": "python",
   "nbconvert_exporter": "python",
   "pygments_lexer": "ipython3",
   "version": "3.11.5"
  }
 },
 "nbformat": 4,
 "nbformat_minor": 2
}

{
 "cells": [
  {
   "cell_type": "code",
   "execution_count": 23,
   "metadata": {},
   "outputs": [],
   "source": [
    "import  time\n",
    "\n",
    "import torch\n",
    "from torch.optim import lr_scheduler\n",
    "import  torch.nn as nn\n",
    "import torch.nn.functional as F\n",
    "from torch.autograd  import Variable\n",
    "from torch.utils.data import DataLoader\n",
    "\n",
    "import torchvision.datasets as dsets\n",
    "import torchvision.transforms as transforms\n"
   ]
  },
  {
   "cell_type": "code",
   "execution_count": 24,
   "metadata": {},
   "outputs": [],
   "source": [
    "BATCH_SIZE = 100\n",
    "criterion = nn.CrossEntropyLoss()\n",
    "device = torch.device('mps' if torch.backends.mps.is_available() else 'cpu')"
   ]
  },
  {
   "cell_type": "code",
   "execution_count": 25,
   "metadata": {},
   "outputs": [
    {
     "name": "stdout",
     "output_type": "stream",
     "text": [
      "Files already downloaded and verified\n",
      "Files already downloaded and verified\n"
     ]
    }
   ],
   "source": [
    "mean = [x/255 for x in [125.3, 123.0, 113.9]]\n",
    "std = [x/255 for x in [63.0, 62.1, 66.7]]\n",
    "n_train_samples = 5000\n",
    "\n",
    "# 使用数据增强\n",
    "train_set = dsets.CIFAR10(root='./data', train=True, transform=transforms.Compose([ \n",
    "    transforms.RandomHorizontalFlip(),\n",
    "    transforms.RandomCrop(32, padding=4),\n",
    "    transforms.ToTensor(),\n",
    "    transforms.Normalize(mean, std)\n",
    "]), download=True)\n",
    "train_dl = DataLoader(train_set, batch_size=BATCH_SIZE, shuffle=True, num_workers=6)\n",
    "train_set.data = train_set.data[:n_train_samples]\n",
    "train_set.targets = train_set.targets[:n_train_samples]\n",
    "\n",
    "# 测试集也一样\n",
    "test_set = dsets.CIFAR10(root='./data', train=False, transform=transforms.Compose([\n",
    "    transforms.ToTensor(),\n",
    "    transforms.Normalize(mean, std)\n",
    "]), download=True)\n",
    "test_dl = DataLoader(test_set, batch_size=BATCH_SIZE, shuffle=False, num_workers=6)\n",
    "    "
   ]
  },
  {
   "cell_type": "code",
   "execution_count": 26,
   "metadata": {},
   "outputs": [],
   "source": [
    "# 定义训练的辅助函数\n",
    "def eval(model,criterion,dataloader):\n",
    "    model.eval()\n",
    "    loss, accuracy = 0., 0.\n",
    "    \n",
    "    # torch.no_grad()表示在计算图中不构建梯度计算\n",
    "    with torch.no_grad():\n",
    "        for batch_x, batch_y in dataloader:\n",
    "            batch_x, batch_y = batch_x.to(device), batch_y.to(device)\n",
    "            \n",
    "            logits = model(batch_x)\n",
    "            error = criterion(logits, batch_y)\n",
    "            loss += error.item()\n",
    "            \n",
    "            probs, pred_y = logits.data.max(dim=1)\n",
    "            accuracy += (pred_y == batch_y.data).float().sum()/batch_y.size(0)\n",
    "            \n",
    "        loss /= len(dataloader)\n",
    "        accuracy = accuracy*100.0/len(dataloader)\n",
    "        return loss, accuracy\n",
    "    \n",
    "def train_epoch(model, criterion, optimizer, dataloader):\n",
    "    model.train()\n",
    "    for batch_x, batch_y in dataloader:\n",
    "        batch_x, batch_y = batch_x.to(device), batch_y.to(device)\n",
    "        \n",
    "        optimizer.zero_grad()\n",
    "        logits = model(batch_x)\n",
    "        error = criterion(logits, batch_y)\n",
    "        error.backward()\n",
    "        optimizer.step()"
   ]
  },
  {
   "cell_type": "code",
   "execution_count": 27,
   "metadata": {},
   "outputs": [],
   "source": [
    "class VGG(nn.Module):\n",
    "    def __init__(self):\n",
    "        super(VGG,self).__init__()\n",
    "        self.feature = nn.Sequential(nn.Conv2d(3,32,kernel_size=3,padding=1),nn.BatchNorm2d(32),nn.ReLU(),\n",
    "                                        nn.Conv2d(32,32,kernel_size=3,padding=1),nn.BatchNorm2d(32),nn.ReLU(),\n",
    "                                        # nn.Conv2d(32,32,kernel_size=3,padding=1),nn.ReLU(),\n",
    "                                        nn.AvgPool2d(2,2),\n",
    "                                        nn.Conv2d(32,64,kernel_size=3,padding=1),nn.BatchNorm2d(64),nn.ReLU(),\n",
    "                                        nn.Conv2d(64,64,kernel_size=3,padding=1),nn.BatchNorm2d(64),nn.ReLU(),\n",
    "                                        # nn.Conv2d(64,64,kernel_size=3,padding=1),nn.ReLU(),\n",
    "                                        nn.AvgPool2d(2,2),\n",
    "                                        nn.Conv2d(64,128,kernel_size=3,padding=1),nn.BatchNorm2d(128),nn.ReLU(),\n",
    "                                        nn.Conv2d(128,128,kernel_size=3,padding=1),nn.BatchNorm2d(128),nn.ReLU(),\n",
    "                                        # nn.Conv2d(128,128,kernel_size=3,padding=1),nn.ReLU(),\n",
    "                                        nn.AvgPool2d(2,2))\n",
    "                                \n",
    "        self.classifier = nn.Sequential(nn.Linear(4*4*128,1000),nn.ReLU(True),nn.Dropout(),\n",
    "                                        # nn.Linear(1000,500),nn.ReLU(True),nn.Dropout(),\n",
    "                                        nn.Linear(1000,10))\n",
    "        \n",
    "    def forward(self,x):\n",
    "        x = self.feature(x)\n",
    "        x = x.view(x.size(0),-1)\n",
    "        x = self.classifier(x)\n",
    "        return x"
   ]
  },
  {
   "cell_type": "code",
   "execution_count": 28,
   "metadata": {},
   "outputs": [
    {
     "name": "stdout",
     "output_type": "stream",
     "text": [
      "torch.Size([5, 10])\n"
     ]
    }
   ],
   "source": [
    "net = VGG().to(device)\n",
    "x = torch.randn(5,3,32,32).to(device)\n",
    "y = net(x)\n",
    "print(y.size())"
   ]
  },
  {
   "cell_type": "code",
   "execution_count": 29,
   "metadata": {},
   "outputs": [],
   "source": [
    "nepochs = 50\n",
    "\n",
    "net = VGG().to(device)\n",
    "optimizer = torch.optim.SGD(net.parameters(), lr=0.01, momentum=0.9, nesterov=True)\n",
    "scheduler = lr_scheduler.MultiStepLR(optimizer, milestones=[40], gamma=0.1)\n",
    "learn_history = []"
   ]
  },
  {
   "cell_type": "code",
   "execution_count": 30,
   "metadata": {},
   "outputs": [
    {
     "name": "stdout",
     "output_type": "stream",
     "text": [
      "Training...\n",
      "[  1/50, 115 seconds] |\t tr_err: 1.7e+00, tr_acc: 36.56 |\t te_err: 1.7e+00, te_acc: 37.64\n",
      "[  6/50, 116 seconds] |\t tr_err: 1.4e+00, tr_acc: 54.02 |\t te_err: 1.4e+00, te_acc: 51.95\n",
      "[ 11/50, 114 seconds] |\t tr_err: 1.0e+00, tr_acc: 63.72 |\t te_err: 1.1e+00, te_acc: 60.51\n",
      "[ 16/50, 115 seconds] |\t tr_err: 9.6e-01, tr_acc: 65.70 |\t te_err: 1.3e+00, te_acc: 59.67\n",
      "[ 21/50, 114 seconds] |\t tr_err: 6.6e-01, tr_acc: 75.56 |\t te_err: 1.0e+00, te_acc: 66.11\n",
      "[ 26/50, 114 seconds] |\t tr_err: 5.2e-01, tr_acc: 81.56 |\t te_err: 1.0e+00, te_acc: 69.46\n",
      "[ 31/50, 115 seconds] |\t tr_err: 4.9e-01, tr_acc: 83.00 |\t te_err: 1.1e+00, te_acc: 68.83\n",
      "[ 36/50, 114 seconds] |\t tr_err: 3.2e-01, tr_acc: 88.08 |\t te_err: 9.9e-01, te_acc: 72.09\n",
      "[ 41/50, 115 seconds] |\t tr_err: 2.4e-01, tr_acc: 92.08 |\t te_err: 9.9e-01, te_acc: 73.16\n",
      "[ 46/50, 114 seconds] |\t tr_err: 2.3e-01, tr_acc: 91.64 |\t te_err: 1.1e+00, te_acc: 72.64\n"
     ]
    }
   ],
   "source": [
    "print('Training...')\n",
    "\n",
    "for epoch in range(nepochs):\n",
    "    since = time.time()\n",
    "    train_epoch(net, criterion, optimizer, train_dl)\n",
    "    \n",
    "    if (epoch)%5 == 0:\n",
    "        tr_loss, tr_acc = eval(net, criterion, train_dl)\n",
    "        te_loss, te_acc = eval(net, criterion, test_dl)\n",
    "        learn_history.append((tr_loss, tr_acc, te_loss, te_acc))\n",
    "        now = time.time()\n",
    "        print('[%3d/%d, %.0f seconds] |\\t tr_err: %.1e, tr_acc: %.2f |\\t te_err: %.1e, te_acc: %.2f' % (\n",
    "            epoch+1, nepochs, now-since, tr_loss, tr_acc, te_loss, te_acc))\n"
   ]
  },
  {
   "cell_type": "code",
   "execution_count": 37,
   "metadata": {},
   "outputs": [
    {
     "data": {
      "text/plain": [
       "[tensor(37.6400),\n",
       " tensor(51.9500),\n",
       " tensor(60.5100),\n",
       " tensor(59.6700),\n",
       " tensor(66.1100),\n",
       " tensor(69.4600),\n",
       " tensor(68.8300),\n",
       " tensor(72.0900),\n",
       " tensor(73.1600),\n",
       " tensor(72.6400)]"
      ]
     },
     "execution_count": 37,
     "metadata": {},
     "output_type": "execute_result"
    }
   ],
   "source": [
    "[x[3].to('cpu') for x in learn_history]"
   ]
  },
  {
   "cell_type": "code",
   "execution_count": 38,
   "metadata": {},
   "outputs": [
    {
     "data": {
      "text/plain": [
       "Text(0, 0.5, 'accuracy')"
      ]
     },
     "execution_count": 38,
     "metadata": {},
     "output_type": "execute_result"
    },
    {
     "data": {
      "image/png": "[encoded data removed]",
      "text/plain": [
       "<Figure size 640x480 with 1 Axes>"
      ]
     },
     "metadata": {},
     "output_type": "display_data"
    }
   ],
   "source": [
    "%matplotlib inline\n",
    "import matplotlib.pyplot as plt\n",
    "\n",
    "plt.plot([x[1].to('cpu') for x in learn_history],'r' ,label='train')\n",
    "plt.plot([x[3].to('cpu') for x in learn_history],'b', label='test')\n",
    "\n",
    "plt.legend()\n",
    "plt.xlabel('epoch')\n",
    "plt.ylabel('accuracy')"
   ]
  }
 ],
 "metadata": {
  "kernelspec": {
   "display_name": "pytorch",
   "language": "python",
   "name": "python3"
  },
  "language_info": {
   "codemirror_mode": {
    "name": "ipython",
    "version": 3
   },
   "file_extension": ".py",
   "mimetype": "text/x-python",
   "name": "python",
   "nbconvert_exporter": "python",
   "pygments_lexer": "ipython3",
   "version": "3.11.5"
  }
 },
 "nbformat": 4,
 "nbformat_minor": 2
}

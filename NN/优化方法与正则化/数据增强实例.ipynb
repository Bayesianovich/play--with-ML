{
 "cells": [
  {
   "cell_type": "code",
   "execution_count": 1,
   "metadata": {},
   "outputs": [],
   "source": [
    "import time\n",
    "\n",
    "import torch\n",
    "from torch.optim import lr_scheduler\n",
    "import torch.nn as nn \n",
    "import torch.nn.functional as F\n",
    "from torch.utils.data import DataLoader\n",
    "\n",
    "import torchvision.datasets as dsets\n",
    "import torchvision.transforms as transforms\n",
    "\n",
    "BATCH_SIZE = 100\n",
    "criterion = nn.CrossEntropyLoss()\n",
    "\n",
    "device = torch.device('mps' if torch.backends.mps.is_available() else 'cpu')"
   ]
  },
  {
   "cell_type": "code",
   "execution_count": 2,
   "metadata": {},
   "outputs": [
    {
     "name": "stdout",
     "output_type": "stream",
     "text": [
      "Files already downloaded and verified\n"
     ]
    }
   ],
   "source": [
    "mean = [x/255 for x in [125.3, 123.0, 113.9]]\n",
    "std = [x/255 for x in [63.0, 62.1, 66.7]]\n",
    "\n",
    "# 不做数据增强\n",
    "train_set = dsets.CIFAR10(root='./data', train=True, \n",
    "                          download=True,\n",
    "                          transform=transforms.Compose([\n",
    "                              transforms.ToTensor(),\n",
    "                              transforms.Normalize(mean, std)\n",
    "                          ]))\n",
    "\n",
    "tain_dl = DataLoader(train_set, batch_size=BATCH_SIZE, shuffle=True, num_workers=6)\n",
    "\n",
    "# 数据增强\n",
    "train_set_ag = dsets.CIFAR10(root='../data/cifar10',\n",
    "                             train=True,\n",
    "                             transform=transforms.Compose([\n",
    "                                    transforms.RandomHorizontalFlip(),\n",
    "                                    transforms.RandomCrop(32, padding=4),\n",
    "                                    transforms.ToTensor(),\n",
    "                                    transforms.Normalize(mean, std)\n",
    "                                ]))\n",
    "\n",
    "train_dl_ag = DataLoader(train_set_ag, batch_size=BATCH_SIZE, shuffle=True, num_workers=6)\n",
    "\n",
    "# 测试集\n",
    "test_set = dsets.CIFAR10(root='./data', train=False,\n",
    "                         transform=transforms.Compose([\n",
    "                             transforms.ToTensor(),\n",
    "                             transforms.Normalize(mean, std)\n",
    "                         ]))\n",
    "test_dl = DataLoader(test_set, batch_size=BATCH_SIZE, shuffle=False)"
   ]
  },
  {
   "cell_type": "code",
   "execution_count": 3,
   "metadata": {},
   "outputs": [],
   "source": [
    "def eval(model,criterion,dataloader):\n",
    "    model.eval()\n",
    "    loss = 0\n",
    "    accuracy = 0\n",
    "    for batch_x, batch_y in dataloader:\n",
    "        batch_x, batch_y = batch_x.to(device), batch_y.to(device)\n",
    "\n",
    "        logits = model(batch_x)\n",
    "        error = criterion(logits, batch_y)\n",
    "        loss += error.item()\n",
    "        \n",
    "        probs, pred_y = logits.data.max(dim=1)\n",
    "        accuracy += (pred_y == batch_y).sum().float() / batch_y.shape[0]\n",
    "        \n",
    "    loss /= len(dataloader)\n",
    "    accuracy = accuracy*100.0 / len(dataloader)\n",
    "    return loss, accuracy\n",
    "\n",
    "def train_epoch(net,criterion,optimizer,dataloader):\n",
    "    net.train()\n",
    "    for batch_x, batch_y in dataloader:\n",
    "        batch_x, batch_y = batch_x.to(device), batch_y.to(device)\n",
    "        \n",
    "        optimizer.zero_grad()\n",
    "        logits = net(batch_x)\n",
    "        error = criterion(logits, batch_y)\n",
    "        error.backward()\n",
    "        optimizer.step()"
   ]
  },
  {
   "cell_type": "code",
   "execution_count": 4,
   "metadata": {},
   "outputs": [],
   "source": [
    "class LeNet(nn.Module):\n",
    "    def __init__(self):\n",
    "        super(LeNet, self).__init__()\n",
    "        self.feature = nn.Sequential(\n",
    "            nn.Conv2d(3, 50, kernel_size=5, padding=2),\n",
    "            nn.AvgPool2d(4),\n",
    "            nn.ReLU(),\n",
    "            nn.Conv2d(50, 50, kernel_size=5, padding=2),\n",
    "            nn.AvgPool2d(2),\n",
    "            nn.ReLU())\n",
    "        self.classifier = nn.Sequential(\n",
    "            nn.Linear(50*4*4, 500),\n",
    "            nn.ReLU(),\n",
    "            nn.Linear(500, 10))\n",
    "   \n",
    "    def forward(self, x):\n",
    "        x = self.feature(x)\n",
    "        x = x.view(-1, 50*4*4)\n",
    "        x = self.classifier(x)\n",
    "        return x"
   ]
  },
  {
   "cell_type": "code",
   "execution_count": 5,
   "metadata": {},
   "outputs": [],
   "source": [
    "nepochs = 60\n",
    "\n",
    "net = LeNet().to(device)\n",
    "\n",
    "optimizer = torch.optim.Adam(net.parameters(), lr=0.001)\n",
    "scheduler = lr_scheduler.MultiStepLR(optimizer, milestones=[45], gamma=0.1)\n",
    "learn_hist = []\n",
    "\n",
    "net_ag = LeNet().to(device)\n",
    "\n",
    "optimizer_ag = torch.optim.Adam(net_ag.parameters(), lr=0.001)\n",
    "scheduler_ag = lr_scheduler.MultiStepLR(optimizer_ag, milestones=[40], gamma=0.1)\n",
    "learn_hist_ag = []"
   ]
  },
  {
   "cell_type": "code",
   "execution_count": 6,
   "metadata": {},
   "outputs": [
    {
     "name": "stdout",
     "output_type": "stream",
     "text": [
      "Start training without data augmentation\n"
     ]
    },
    {
     "ename": "KeyboardInterrupt",
     "evalue": "",
     "output_type": "error",
     "traceback": [
      "\u001b[0;31m---------------------------------------------------------------------------\u001b[0m",
      "\u001b[0;31mKeyboardInterrupt\u001b[0m                         Traceback (most recent call last)",
      "\u001b[1;32m/Users/cheng/Desktop/风控/NN/优化方法与正则化/数据增强实例.ipynb Cell 6\u001b[0m line \u001b[0;36m4\n\u001b[1;32m      <a href='vscode-notebook-cell:/Users/cheng/Desktop/%E9%A3%8E%E6%8E%A7/NN/%E4%BC%98%E5%8C%96%E6%96%B9%E6%B3%95%E4%B8%8E%E6%AD%A3%E5%88%99%E5%8C%96/%E6%95%B0%E6%8D%AE%E5%A2%9E%E5%BC%BA%E5%AE%9E%E4%BE%8B.ipynb#W3sZmlsZQ%3D%3D?line=1'>2</a>\u001b[0m \u001b[39mfor\u001b[39;00m epoch \u001b[39min\u001b[39;00m \u001b[39mrange\u001b[39m(nepochs):\n\u001b[1;32m      <a href='vscode-notebook-cell:/Users/cheng/Desktop/%E9%A3%8E%E6%8E%A7/NN/%E4%BC%98%E5%8C%96%E6%96%B9%E6%B3%95%E4%B8%8E%E6%AD%A3%E5%88%99%E5%8C%96/%E6%95%B0%E6%8D%AE%E5%A2%9E%E5%BC%BA%E5%AE%9E%E4%BE%8B.ipynb#W3sZmlsZQ%3D%3D?line=2'>3</a>\u001b[0m     start \u001b[39m=\u001b[39m time\u001b[39m.\u001b[39mtime()\n\u001b[0;32m----> <a href='vscode-notebook-cell:/Users/cheng/Desktop/%E9%A3%8E%E6%8E%A7/NN/%E4%BC%98%E5%8C%96%E6%96%B9%E6%B3%95%E4%B8%8E%E6%AD%A3%E5%88%99%E5%8C%96/%E6%95%B0%E6%8D%AE%E5%A2%9E%E5%BC%BA%E5%AE%9E%E4%BE%8B.ipynb#W3sZmlsZQ%3D%3D?line=3'>4</a>\u001b[0m     train_epoch(net, criterion, optimizer, tain_dl)\n\u001b[1;32m      <a href='vscode-notebook-cell:/Users/cheng/Desktop/%E9%A3%8E%E6%8E%A7/NN/%E4%BC%98%E5%8C%96%E6%96%B9%E6%B3%95%E4%B8%8E%E6%AD%A3%E5%88%99%E5%8C%96/%E6%95%B0%E6%8D%AE%E5%A2%9E%E5%BC%BA%E5%AE%9E%E4%BE%8B.ipynb#W3sZmlsZQ%3D%3D?line=4'>5</a>\u001b[0m     tr_loss, tr_acc \u001b[39m=\u001b[39m \u001b[39meval\u001b[39m(net, criterion, tain_dl)\n\u001b[1;32m      <a href='vscode-notebook-cell:/Users/cheng/Desktop/%E9%A3%8E%E6%8E%A7/NN/%E4%BC%98%E5%8C%96%E6%96%B9%E6%B3%95%E4%B8%8E%E6%AD%A3%E5%88%99%E5%8C%96/%E6%95%B0%E6%8D%AE%E5%A2%9E%E5%BC%BA%E5%AE%9E%E4%BE%8B.ipynb#W3sZmlsZQ%3D%3D?line=5'>6</a>\u001b[0m     te_loss, te_acc \u001b[39m=\u001b[39m \u001b[39meval\u001b[39m(net, criterion, test_dl)\n",
      "\u001b[1;32m/Users/cheng/Desktop/风控/NN/优化方法与正则化/数据增强实例.ipynb Cell 6\u001b[0m line \u001b[0;36m2\n\u001b[1;32m     <a href='vscode-notebook-cell:/Users/cheng/Desktop/%E9%A3%8E%E6%8E%A7/NN/%E4%BC%98%E5%8C%96%E6%96%B9%E6%B3%95%E4%B8%8E%E6%AD%A3%E5%88%99%E5%8C%96/%E6%95%B0%E6%8D%AE%E5%A2%9E%E5%BC%BA%E5%AE%9E%E4%BE%8B.ipynb#W3sZmlsZQ%3D%3D?line=18'>19</a>\u001b[0m \u001b[39mdef\u001b[39;00m \u001b[39mtrain_epoch\u001b[39m(net,criterion,optimizer,dataloader):\n\u001b[1;32m     <a href='vscode-notebook-cell:/Users/cheng/Desktop/%E9%A3%8E%E6%8E%A7/NN/%E4%BC%98%E5%8C%96%E6%96%B9%E6%B3%95%E4%B8%8E%E6%AD%A3%E5%88%99%E5%8C%96/%E6%95%B0%E6%8D%AE%E5%A2%9E%E5%BC%BA%E5%AE%9E%E4%BE%8B.ipynb#W3sZmlsZQ%3D%3D?line=19'>20</a>\u001b[0m     net\u001b[39m.\u001b[39mtrain()\n\u001b[0;32m---> <a href='vscode-notebook-cell:/Users/cheng/Desktop/%E9%A3%8E%E6%8E%A7/NN/%E4%BC%98%E5%8C%96%E6%96%B9%E6%B3%95%E4%B8%8E%E6%AD%A3%E5%88%99%E5%8C%96/%E6%95%B0%E6%8D%AE%E5%A2%9E%E5%BC%BA%E5%AE%9E%E4%BE%8B.ipynb#W3sZmlsZQ%3D%3D?line=20'>21</a>\u001b[0m     \u001b[39mfor\u001b[39;49;00m batch_x, batch_y \u001b[39min\u001b[39;49;00m dataloader:\n\u001b[1;32m     <a href='vscode-notebook-cell:/Users/cheng/Desktop/%E9%A3%8E%E6%8E%A7/NN/%E4%BC%98%E5%8C%96%E6%96%B9%E6%B3%95%E4%B8%8E%E6%AD%A3%E5%88%99%E5%8C%96/%E6%95%B0%E6%8D%AE%E5%A2%9E%E5%BC%BA%E5%AE%9E%E4%BE%8B.ipynb#W3sZmlsZQ%3D%3D?line=21'>22</a>\u001b[0m         batch_x, batch_y \u001b[39m=\u001b[39;49m batch_x\u001b[39m.\u001b[39;49mto(device), batch_y\u001b[39m.\u001b[39;49mto(device)\n\u001b[1;32m     <a href='vscode-notebook-cell:/Users/cheng/Desktop/%E9%A3%8E%E6%8E%A7/NN/%E4%BC%98%E5%8C%96%E6%96%B9%E6%B3%95%E4%B8%8E%E6%AD%A3%E5%88%99%E5%8C%96/%E6%95%B0%E6%8D%AE%E5%A2%9E%E5%BC%BA%E5%AE%9E%E4%BE%8B.ipynb#W3sZmlsZQ%3D%3D?line=23'>24</a>\u001b[0m         optimizer\u001b[39m.\u001b[39;49mzero_grad()\n",
      "File \u001b[0;32m~/anaconda3/envs/pytorch/lib/python3.11/site-packages/torch/utils/data/dataloader.py:631\u001b[0m, in \u001b[0;36m_BaseDataLoaderIter.__next__\u001b[0;34m(self)\u001b[0m\n\u001b[1;32m    628\u001b[0m \u001b[39mif\u001b[39;00m \u001b[39mself\u001b[39m\u001b[39m.\u001b[39m_sampler_iter \u001b[39mis\u001b[39;00m \u001b[39mNone\u001b[39;00m:\n\u001b[1;32m    629\u001b[0m     \u001b[39m# TODO(https://github.com/pytorch/pytorch/issues/76750)\u001b[39;00m\n\u001b[1;32m    630\u001b[0m     \u001b[39mself\u001b[39m\u001b[39m.\u001b[39m_reset()  \u001b[39m# type: ignore[call-arg]\u001b[39;00m\n\u001b[0;32m--> 631\u001b[0m data \u001b[39m=\u001b[39m \u001b[39mself\u001b[39;49m\u001b[39m.\u001b[39;49m_next_data()\n\u001b[1;32m    632\u001b[0m \u001b[39mself\u001b[39m\u001b[39m.\u001b[39m_num_yielded \u001b[39m+\u001b[39m\u001b[39m=\u001b[39m \u001b[39m1\u001b[39m\n\u001b[1;32m    633\u001b[0m \u001b[39mif\u001b[39;00m \u001b[39mself\u001b[39m\u001b[39m.\u001b[39m_dataset_kind \u001b[39m==\u001b[39m _DatasetKind\u001b[39m.\u001b[39mIterable \u001b[39mand\u001b[39;00m \\\n\u001b[1;32m    634\u001b[0m         \u001b[39mself\u001b[39m\u001b[39m.\u001b[39m_IterableDataset_len_called \u001b[39mis\u001b[39;00m \u001b[39mnot\u001b[39;00m \u001b[39mNone\u001b[39;00m \u001b[39mand\u001b[39;00m \\\n\u001b[1;32m    635\u001b[0m         \u001b[39mself\u001b[39m\u001b[39m.\u001b[39m_num_yielded \u001b[39m>\u001b[39m \u001b[39mself\u001b[39m\u001b[39m.\u001b[39m_IterableDataset_len_called:\n",
      "File \u001b[0;32m~/anaconda3/envs/pytorch/lib/python3.11/site-packages/torch/utils/data/dataloader.py:1318\u001b[0m, in \u001b[0;36m_MultiProcessingDataLoaderIter._next_data\u001b[0;34m(self)\u001b[0m\n\u001b[1;32m   1315\u001b[0m \u001b[39melse\u001b[39;00m:\n\u001b[1;32m   1316\u001b[0m     \u001b[39m# no valid `self._rcvd_idx` is found (i.e., didn't break)\u001b[39;00m\n\u001b[1;32m   1317\u001b[0m     \u001b[39mif\u001b[39;00m \u001b[39mnot\u001b[39;00m \u001b[39mself\u001b[39m\u001b[39m.\u001b[39m_persistent_workers:\n\u001b[0;32m-> 1318\u001b[0m         \u001b[39mself\u001b[39;49m\u001b[39m.\u001b[39;49m_shutdown_workers()\n\u001b[1;32m   1319\u001b[0m     \u001b[39mraise\u001b[39;00m \u001b[39mStopIteration\u001b[39;00m\n\u001b[1;32m   1321\u001b[0m \u001b[39m# Now `self._rcvd_idx` is the batch index we want to fetch\u001b[39;00m\n\u001b[1;32m   1322\u001b[0m \n\u001b[1;32m   1323\u001b[0m \u001b[39m# Check if the next sample has already been generated\u001b[39;00m\n",
      "File \u001b[0;32m~/anaconda3/envs/pytorch/lib/python3.11/site-packages/torch/utils/data/dataloader.py:1443\u001b[0m, in \u001b[0;36m_MultiProcessingDataLoaderIter._shutdown_workers\u001b[0;34m(self)\u001b[0m\n\u001b[1;32m   1438\u001b[0m         \u001b[39mself\u001b[39m\u001b[39m.\u001b[39m_mark_worker_as_unavailable(worker_id, shutdown\u001b[39m=\u001b[39m\u001b[39mTrue\u001b[39;00m)\n\u001b[1;32m   1439\u001b[0m \u001b[39mfor\u001b[39;00m w \u001b[39min\u001b[39;00m \u001b[39mself\u001b[39m\u001b[39m.\u001b[39m_workers:\n\u001b[1;32m   1440\u001b[0m     \u001b[39m# We should be able to join here, but in case anything went\u001b[39;00m\n\u001b[1;32m   1441\u001b[0m     \u001b[39m# wrong, we set a timeout and if the workers fail to join,\u001b[39;00m\n\u001b[1;32m   1442\u001b[0m     \u001b[39m# they are killed in the `finally` block.\u001b[39;00m\n\u001b[0;32m-> 1443\u001b[0m     w\u001b[39m.\u001b[39;49mjoin(timeout\u001b[39m=\u001b[39;49m_utils\u001b[39m.\u001b[39;49mMP_STATUS_CHECK_INTERVAL)\n\u001b[1;32m   1444\u001b[0m \u001b[39mfor\u001b[39;00m q \u001b[39min\u001b[39;00m \u001b[39mself\u001b[39m\u001b[39m.\u001b[39m_index_queues:\n\u001b[1;32m   1445\u001b[0m     q\u001b[39m.\u001b[39mcancel_join_thread()\n",
      "File \u001b[0;32m~/anaconda3/envs/pytorch/lib/python3.11/multiprocessing/process.py:149\u001b[0m, in \u001b[0;36mBaseProcess.join\u001b[0;34m(self, timeout)\u001b[0m\n\u001b[1;32m    147\u001b[0m \u001b[39massert\u001b[39;00m \u001b[39mself\u001b[39m\u001b[39m.\u001b[39m_parent_pid \u001b[39m==\u001b[39m os\u001b[39m.\u001b[39mgetpid(), \u001b[39m'\u001b[39m\u001b[39mcan only join a child process\u001b[39m\u001b[39m'\u001b[39m\n\u001b[1;32m    148\u001b[0m \u001b[39massert\u001b[39;00m \u001b[39mself\u001b[39m\u001b[39m.\u001b[39m_popen \u001b[39mis\u001b[39;00m \u001b[39mnot\u001b[39;00m \u001b[39mNone\u001b[39;00m, \u001b[39m'\u001b[39m\u001b[39mcan only join a started process\u001b[39m\u001b[39m'\u001b[39m\n\u001b[0;32m--> 149\u001b[0m res \u001b[39m=\u001b[39m \u001b[39mself\u001b[39;49m\u001b[39m.\u001b[39;49m_popen\u001b[39m.\u001b[39;49mwait(timeout)\n\u001b[1;32m    150\u001b[0m \u001b[39mif\u001b[39;00m res \u001b[39mis\u001b[39;00m \u001b[39mnot\u001b[39;00m \u001b[39mNone\u001b[39;00m:\n\u001b[1;32m    151\u001b[0m     _children\u001b[39m.\u001b[39mdiscard(\u001b[39mself\u001b[39m)\n",
      "File \u001b[0;32m~/anaconda3/envs/pytorch/lib/python3.11/multiprocessing/popen_fork.py:40\u001b[0m, in \u001b[0;36mPopen.wait\u001b[0;34m(self, timeout)\u001b[0m\n\u001b[1;32m     38\u001b[0m \u001b[39mif\u001b[39;00m timeout \u001b[39mis\u001b[39;00m \u001b[39mnot\u001b[39;00m \u001b[39mNone\u001b[39;00m:\n\u001b[1;32m     39\u001b[0m     \u001b[39mfrom\u001b[39;00m \u001b[39mmultiprocessing\u001b[39;00m\u001b[39m.\u001b[39;00m\u001b[39mconnection\u001b[39;00m \u001b[39mimport\u001b[39;00m wait\n\u001b[0;32m---> 40\u001b[0m     \u001b[39mif\u001b[39;00m \u001b[39mnot\u001b[39;00m wait([\u001b[39mself\u001b[39;49m\u001b[39m.\u001b[39;49msentinel], timeout):\n\u001b[1;32m     41\u001b[0m         \u001b[39mreturn\u001b[39;00m \u001b[39mNone\u001b[39;00m\n\u001b[1;32m     42\u001b[0m \u001b[39m# This shouldn't block if wait() returned successfully.\u001b[39;00m\n",
      "File \u001b[0;32m~/anaconda3/envs/pytorch/lib/python3.11/multiprocessing/connection.py:930\u001b[0m, in \u001b[0;36mwait\u001b[0;34m(object_list, timeout)\u001b[0m\n\u001b[1;32m    927\u001b[0m     deadline \u001b[39m=\u001b[39m time\u001b[39m.\u001b[39mmonotonic() \u001b[39m+\u001b[39m timeout\n\u001b[1;32m    929\u001b[0m \u001b[39mwhile\u001b[39;00m \u001b[39mTrue\u001b[39;00m:\n\u001b[0;32m--> 930\u001b[0m     ready \u001b[39m=\u001b[39m selector\u001b[39m.\u001b[39;49mselect(timeout)\n\u001b[1;32m    931\u001b[0m     \u001b[39mif\u001b[39;00m ready:\n\u001b[1;32m    932\u001b[0m         \u001b[39mreturn\u001b[39;00m [key\u001b[39m.\u001b[39mfileobj \u001b[39mfor\u001b[39;00m (key, events) \u001b[39min\u001b[39;00m ready]\n",
      "File \u001b[0;32m~/anaconda3/envs/pytorch/lib/python3.11/selectors.py:415\u001b[0m, in \u001b[0;36m_PollLikeSelector.select\u001b[0;34m(self, timeout)\u001b[0m\n\u001b[1;32m    413\u001b[0m ready \u001b[39m=\u001b[39m []\n\u001b[1;32m    414\u001b[0m \u001b[39mtry\u001b[39;00m:\n\u001b[0;32m--> 415\u001b[0m     fd_event_list \u001b[39m=\u001b[39m \u001b[39mself\u001b[39m\u001b[39m.\u001b[39m_selector\u001b[39m.\u001b[39mpoll(timeout)\n\u001b[1;32m    416\u001b[0m \u001b[39mexcept\u001b[39;00m \u001b[39mInterruptedError\u001b[39;00m:\n\u001b[1;32m    417\u001b[0m     \u001b[39mreturn\u001b[39;00m ready\n",
      "\u001b[0;31mKeyboardInterrupt\u001b[0m: "
     ]
    }
   ],
   "source": [
    "print('Start training without data augmentation')\n",
    "for epoch in range(nepochs):\n",
    "    start = time.time()\n",
    "    train_epoch(net, criterion, optimizer, tain_dl)\n",
    "    tr_loss, tr_acc = eval(net, criterion, tain_dl)\n",
    "    te_loss, te_acc = eval(net, criterion, test_dl)\n",
    "    learn_hist.append((tr_loss, tr_acc, te_loss, te_acc))\n",
    "    now = time.time()\n",
    "    if (epoch+1) % 5 == 0:\n",
    "            print('[%2d/%d], train error: %.1e, train acc: %.2f\\t test error: %.1e, test acc: %.2f'%(epoch+1,nepoches,tr_loss,tr_acc,te_loss,te_acc))\n",
    "\n",
    "print('Start training with data augmentation')\n",
    "for epoch in range(nepochs):\n",
    "    since = time.time()\n",
    "    scheduler_ag.step()\n",
    "    train_epoch(net_ag, criterion, optimizer_ag, train_dl_ag)\n",
    "    tr_loss, tr_acc = eval(net_ag, criterion, train_dl_ag)\n",
    "    te_loss, te_acc = eval(net_ag, criterion, test_dl)\n",
    "    learn_hist_ag.append((tr_loss, tr_acc, te_loss, te_acc))\n",
    "    now = time.time()\n",
    "    \n",
    "    if (epoch+1) % 5 == 0:\n",
    "        print('[%2d/%d], train error: %.1e, train acc: %.2f\\t test error: %.1e, test acc: %.2f'%(epoch+1,nepochs,tr_loss,tr_acc,te_loss,te_acc))\n",
    "    "
   ]
  },
  {
   "cell_type": "code",
   "execution_count": null,
   "metadata": {},
   "outputs": [],
   "source": [
    "%matplotlib inline\n",
    "import matplotlib.pyplot as plt\n",
    "\n",
    "plt.plot([t[1].to('cpu') for t in learn_hist],'r',label='Train without data augmentation')\n",
    "plt.plot([t[3].to('cpu') for t in learn_hist],'b',label='Test  without data augmentation')\n",
    "\n",
    "plt.plot([t[1].to('cpu') for t in learn_hist_ag],'r--',label='Train with data augmentation')\n",
    "plt.plot([t[3].to('cpu') for t in learn_hist_ag],'b--',label='Test with data augmentation')\n",
    "\n",
    "plt.legend()\n",
    "plt.xlabel('Epoch')\n",
    "plt.ylabel('Accuracy')\n",
    "plt.show()\n"
   ]
  }
 ],
 "metadata": {
  "kernelspec": {
   "display_name": "pytorch",
   "language": "python",
   "name": "python3"
  },
  "language_info": {
   "codemirror_mode": {
    "name": "ipython",
    "version": 3
   },
   "file_extension": ".py",
   "mimetype": "text/x-python",
   "name": "python",
   "nbconvert_exporter": "python",
   "pygments_lexer": "ipython3",
   "version": "3.11.5"
  }
 },
 "nbformat": 4,
 "nbformat_minor": 2
}

{
 "cells": [
  {
   "cell_type": "code",
   "execution_count": 17,
   "metadata": {},
   "outputs": [],
   "source": [
    "import time \n",
    "\n",
    "import torch.nn as nn\n",
    "import torch.nn.functional as F\n",
    "\n",
    "import torchvision.datasets as dsets\n",
    "import torchvision.transforms as trans"
   ]
  },
  {
   "cell_type": "code",
   "execution_count": 18,
   "metadata": {},
   "outputs": [
    {
     "name": "stdout",
     "output_type": "stream",
     "text": [
      "<generator object Module.parameters at 0x123913d80>\n",
      "[Parameter containing:\n",
      "tensor([[ 0.0009, -0.0345,  0.0052,  ...,  0.0257,  0.0057, -0.0162],\n",
      "        [-0.0345,  0.0053, -0.0385,  ..., -0.0165,  0.0083, -0.0004],\n",
      "        [-0.0022, -0.0131, -0.0277,  ..., -0.0255, -0.0019,  0.0095],\n",
      "        ...,\n",
      "        [-0.0402,  0.0126,  0.0201,  ...,  0.0067,  0.0301, -0.0372],\n",
      "        [ 0.0123, -0.0348,  0.0151,  ...,  0.0012,  0.0158, -0.0224],\n",
      "        [-0.0078,  0.0372, -0.0159,  ...,  0.0391, -0.0136,  0.0325]],\n",
      "       requires_grad=True), Parameter containing:\n",
      "tensor([-0.0155,  0.0327, -0.0139,  0.0152,  0.0132,  0.0254,  0.0143, -0.0190,\n",
      "         0.0387, -0.0139, -0.0210, -0.0204, -0.0178,  0.0048,  0.0372,  0.0011,\n",
      "         0.0083, -0.0373,  0.0176,  0.0066, -0.0262, -0.0412,  0.0389,  0.0338,\n",
      "         0.0128,  0.0052, -0.0365,  0.0167, -0.0060, -0.0418, -0.0355,  0.0412,\n",
      "        -0.0130, -0.0350, -0.0256,  0.0131, -0.0127, -0.0191,  0.0150, -0.0068,\n",
      "        -0.0044, -0.0207,  0.0289, -0.0275,  0.0172, -0.0271,  0.0286,  0.0175,\n",
      "         0.0185, -0.0256,  0.0108, -0.0019, -0.0242,  0.0048,  0.0259, -0.0055,\n",
      "         0.0107,  0.0046,  0.0048,  0.0153, -0.0342,  0.0222,  0.0297,  0.0124,\n",
      "        -0.0415,  0.0221, -0.0233,  0.0285, -0.0445, -0.0226,  0.0368,  0.0283,\n",
      "        -0.0218, -0.0373, -0.0114, -0.0078,  0.0189, -0.0384,  0.0075,  0.0292,\n",
      "         0.0168,  0.0349, -0.0059,  0.0190,  0.0210, -0.0008, -0.0054,  0.0110,\n",
      "        -0.0011,  0.0058, -0.0165,  0.0190,  0.0415, -0.0193,  0.0180, -0.0252,\n",
      "        -0.0082, -0.0208,  0.0428,  0.0321,  0.0237, -0.0250, -0.0310,  0.0153,\n",
      "        -0.0224,  0.0276, -0.0347, -0.0169, -0.0437,  0.0427, -0.0307,  0.0287,\n",
      "         0.0412,  0.0380,  0.0097,  0.0359,  0.0153,  0.0286, -0.0318,  0.0027,\n",
      "         0.0016,  0.0071, -0.0033,  0.0437, -0.0412,  0.0396,  0.0227,  0.0319,\n",
      "         0.0087,  0.0117,  0.0405, -0.0175,  0.0276,  0.0345,  0.0162, -0.0055,\n",
      "         0.0390,  0.0168, -0.0059, -0.0149,  0.0059, -0.0062,  0.0385, -0.0265,\n",
      "         0.0284, -0.0145,  0.0324, -0.0118,  0.0351, -0.0326,  0.0238,  0.0392,\n",
      "        -0.0042,  0.0389, -0.0113,  0.0292, -0.0102, -0.0113,  0.0355, -0.0136,\n",
      "         0.0313,  0.0027,  0.0165,  0.0014, -0.0435, -0.0359,  0.0222, -0.0244,\n",
      "        -0.0317, -0.0414, -0.0354, -0.0291, -0.0092, -0.0376, -0.0260, -0.0128,\n",
      "        -0.0010, -0.0061, -0.0325,  0.0368,  0.0036, -0.0004,  0.0418,  0.0117,\n",
      "         0.0398, -0.0208,  0.0203,  0.0082, -0.0387,  0.0160,  0.0137, -0.0300,\n",
      "        -0.0344, -0.0135, -0.0022,  0.0362, -0.0070, -0.0188, -0.0419, -0.0172,\n",
      "        -0.0128,  0.0177, -0.0115, -0.0392, -0.0282,  0.0272,  0.0178,  0.0287,\n",
      "         0.0098,  0.0335,  0.0314,  0.0317,  0.0173, -0.0432,  0.0216, -0.0165,\n",
      "         0.0255, -0.0117, -0.0270, -0.0186,  0.0265,  0.0376, -0.0007, -0.0382,\n",
      "         0.0151, -0.0364, -0.0413,  0.0090,  0.0438, -0.0313,  0.0138,  0.0200,\n",
      "        -0.0138,  0.0055, -0.0430,  0.0215,  0.0172, -0.0376, -0.0263, -0.0344,\n",
      "        -0.0421,  0.0038,  0.0298, -0.0107, -0.0096,  0.0279,  0.0388,  0.0237,\n",
      "         0.0121,  0.0380,  0.0406,  0.0043, -0.0371, -0.0335, -0.0074,  0.0269,\n",
      "         0.0257, -0.0218,  0.0177,  0.0321, -0.0289,  0.0144,  0.0417, -0.0121,\n",
      "         0.0439, -0.0246, -0.0321,  0.0339,  0.0017, -0.0178,  0.0417,  0.0062,\n",
      "        -0.0311, -0.0387, -0.0032, -0.0402,  0.0435, -0.0301,  0.0037,  0.0125,\n",
      "        -0.0262, -0.0409,  0.0015, -0.0039, -0.0429,  0.0241,  0.0069, -0.0011,\n",
      "         0.0022, -0.0280, -0.0074,  0.0102, -0.0405,  0.0218, -0.0156,  0.0341,\n",
      "         0.0266, -0.0231,  0.0422,  0.0134], requires_grad=True)]\n"
     ]
    }
   ],
   "source": [
    "fc =nn.Linear(500,300)\n",
    "paras = fc.parameters()\n",
    "\n",
    "print(paras)\n",
    "paras = list(paras)\n",
    "print(paras)\n"
   ]
  },
  {
   "cell_type": "code",
   "execution_count": 19,
   "metadata": {},
   "outputs": [],
   "source": [
    "class SGD:\n",
    "    def __init__(self,parameters,lr,momentum=0.0):\n",
    "        # super(SGD,self).__init__()\n",
    "        self.x_state = list(parameters)\n",
    "        self.lr = lr\n",
    "        self.momentum = momentum\n",
    "        self.v_state = [t.data.clone().zero_() for t in self.x_state]\n",
    "    \n",
    "    def zero_grad(self):\n",
    "        for x in self.x_state:\n",
    "            if x.grad is not None:\n",
    "                x.grad.data.zero_()\n",
    "    \n",
    "    def step(self):\n",
    "        for x,v in zip(self.x_state,self.v_state):\n",
    "            g = x.grad.data\n",
    "            v.mul_(self.momentum).add_(g) # v = v*momentum + g\n",
    "            x.data.add_(-self.lr,v) # x = x - lr*v"
   ]
  },
  {
   "cell_type": "code",
   "execution_count": 20,
   "metadata": {},
   "outputs": [],
   "source": [
    "import torch\n",
    "batch_size = 100\n",
    "\n",
    "train_set = dsets.MNIST(root='../data/mnist/',\n",
    "                        transform=trans.ToTensor(),\n",
    "                        train=True)\n",
    "test_set = dsets.MNIST(root='../data/mnist/',\n",
    "                       transform=trans.ToTensor(),\n",
    "                          train=False)\n",
    "train_dl = torch.utils.data.DataLoader(dataset=train_set,\n",
    "                                        batch_size=batch_size,\n",
    "                                        shuffle=True,\n",
    "                                        num_workers=6)\n",
    "test_dl = torch.utils.data.DataLoader(dataset=test_set,\n",
    "                                        batch_size=batch_size,\n",
    "                                        num_workers=6)\n"
   ]
  },
  {
   "cell_type": "markdown",
   "metadata": {},
   "source": [
    "定义模型"
   ]
  },
  {
   "cell_type": "code",
   "execution_count": 21,
   "metadata": {},
   "outputs": [
    {
     "name": "stdout",
     "output_type": "stream",
     "text": [
      "Using device: mps\n"
     ]
    }
   ],
   "source": [
    "import torch\n",
    "\n",
    "# 检查 MPS 的可用性，如果可用则选择 MPS，否则选择 CPU\n",
    "device = torch.device('mps' if torch.backends.mps.is_available() else 'cpu')\n",
    "\n",
    "print(f\"Using device: {device}\")"
   ]
  },
  {
   "cell_type": "code",
   "execution_count": 22,
   "metadata": {},
   "outputs": [],
   "source": [
    "model = nn.Sequential(nn.Linear(784, 500),nn.ReLU(),\n",
    "                        nn.Linear(500, 300),nn.ReLU(),\n",
    "                        nn.Linear(300, 10)).to(device)\n",
    "\n",
    "critertion = nn.CrossEntropyLoss()\n",
    "# optimizer = SGD(model.parameters(),lr=0.1)\n",
    "\n",
    "                      "
   ]
  },
  {
   "cell_type": "markdown",
   "metadata": {},
   "source": [
    "辅助函数"
   ]
  },
  {
   "cell_type": "code",
   "execution_count": 23,
   "metadata": {},
   "outputs": [],
   "source": [
    "def eval(model,criterion,dataloader):\n",
    "    loss,accuracy = 0,0\n",
    "    for batch_x,batch_y in dataloader:\n",
    "        batch_x = batch_x.view(-1,784)\n",
    "        batch_x,batch_y = batch_x.to(device),batch_y.to(device)\n",
    "        \n",
    "        logits = model(batch_x)\n",
    "        error = criterion(logits,batch_y)\n",
    "        loss += error.item()\n",
    "        \n",
    "        probs,pred_y = logits.data.max(dim=1)\n",
    "        accuracy += (pred_y==batch_y.data).sum().float()/batch_y.size(0)\n",
    "        \n",
    "    loss /= len(dataloader)\n",
    "    accuracy = accuracy*100.0/len(dataloader)\n",
    "    return loss,accuracy"
   ]
  },
  {
   "cell_type": "code",
   "execution_count": 24,
   "metadata": {},
   "outputs": [
    {
     "name": "stdout",
     "output_type": "stream",
     "text": [
      "[  1/30, 11 seconds] |\t train error: 1.1e-01, train acc: 96.79|\t test error: 1.2e-01, test acc: 96.35\n",
      "[  2/30, 11 seconds] |\t train error: 5.7e-02, train acc: 98.26|\t test error: 8.5e-02, test acc: 97.23\n",
      "[  3/30, 10 seconds] |\t train error: 4.6e-02, train acc: 98.50|\t test error: 8.1e-02, test acc: 97.45\n",
      "[  4/30, 11 seconds] |\t train error: 3.4e-02, train acc: 99.00|\t test error: 7.1e-02, test acc: 97.77\n",
      "[  5/30, 10 seconds] |\t train error: 2.3e-02, train acc: 99.25|\t test error: 6.6e-02, test acc: 98.14\n",
      "[  6/30, 10 seconds] |\t train error: 1.9e-02, train acc: 99.40|\t test error: 6.6e-02, test acc: 97.99\n",
      "[  7/30, 10 seconds] |\t train error: 1.8e-02, train acc: 99.40|\t test error: 7.1e-02, test acc: 97.94\n",
      "[  8/30, 10 seconds] |\t train error: 1.7e-02, train acc: 99.46|\t test error: 9.1e-02, test acc: 97.64\n",
      "[  9/30, 11 seconds] |\t train error: 1.3e-02, train acc: 99.59|\t test error: 8.1e-02, test acc: 97.78\n",
      "[ 10/30, 11 seconds] |\t train error: 4.3e-03, train acc: 99.88|\t test error: 7.9e-02, test acc: 98.16\n",
      "[ 11/30, 10 seconds] |\t train error: 7.8e-03, train acc: 99.76|\t test error: 7.8e-02, test acc: 98.17\n",
      "[ 12/30, 12 seconds] |\t train error: 9.1e-03, train acc: 99.69|\t test error: 8.5e-02, test acc: 98.13\n",
      "[ 13/30, 11 seconds] |\t train error: 4.7e-03, train acc: 99.85|\t test error: 7.6e-02, test acc: 98.41\n",
      "[ 14/30, 10 seconds] |\t train error: 4.1e-03, train acc: 99.87|\t test error: 7.8e-02, test acc: 98.32\n",
      "[ 15/30, 11 seconds] |\t train error: 8.3e-03, train acc: 99.74|\t test error: 8.2e-02, test acc: 98.14\n",
      "[ 16/30, 10 seconds] |\t train error: 6.0e-03, train acc: 99.79|\t test error: 8.9e-02, test acc: 98.10\n",
      "[ 17/30, 10 seconds] |\t train error: 6.3e-03, train acc: 99.80|\t test error: 9.6e-02, test acc: 98.14\n",
      "[ 18/30, 11 seconds] |\t train error: 6.5e-03, train acc: 99.78|\t test error: 9.5e-02, test acc: 98.12\n",
      "[ 19/30, 12 seconds] |\t train error: 4.8e-03, train acc: 99.82|\t test error: 9.0e-02, test acc: 98.30\n",
      "[ 20/30, 11 seconds] |\t train error: 2.7e-03, train acc: 99.91|\t test error: 9.1e-02, test acc: 98.30\n",
      "[ 21/30, 11 seconds] |\t train error: 1.9e-03, train acc: 99.94|\t test error: 8.6e-02, test acc: 98.22\n",
      "[ 22/30, 11 seconds] |\t train error: 1.8e-03, train acc: 99.93|\t test error: 8.8e-02, test acc: 98.26\n",
      "[ 23/30, 10 seconds] |\t train error: 9.1e-03, train acc: 99.67|\t test error: 1.0e-01, test acc: 98.03\n",
      "[ 24/30, 11 seconds] |\t train error: 8.4e-03, train acc: 99.78|\t test error: 1.1e-01, test acc: 98.08\n",
      "[ 25/30, 11 seconds] |\t train error: 2.1e-03, train acc: 99.95|\t test error: 8.8e-02, test acc: 98.29\n",
      "[ 26/30, 11 seconds] |\t train error: 2.2e-03, train acc: 99.92|\t test error: 9.0e-02, test acc: 98.30\n",
      "[ 27/30, 10 seconds] |\t train error: 6.9e-05, train acc: 100.00|\t test error: 8.4e-02, test acc: 98.46\n",
      "[ 28/30, 10 seconds] |\t train error: 4.1e-05, train acc: 100.00|\t test error: 8.4e-02, test acc: 98.42\n",
      "[ 29/30, 10 seconds] |\t train error: 3.4e-05, train acc: 100.00|\t test error: 8.4e-02, test acc: 98.41\n",
      "[ 30/30, 10 seconds] |\t train error: 2.9e-05, train acc: 100.00|\t test error: 8.4e-02, test acc: 98.43\n"
     ]
    }
   ],
   "source": [
    "sgd = SGD(model.parameters(),lr=0.1,momentum=0.9)\n",
    "nepochs = 30\n",
    "\n",
    "# 记录学习过程\n",
    "learn_history = []\n",
    "# 训练\n",
    "for epoch in range(nepochs):\n",
    "    since = time.time()\n",
    "    total = 0\n",
    "    for batch_x,batch_y in train_dl:\n",
    "        batch_x = batch_x.view(-1,784)\n",
    "        batch_x,batch_y = batch_x.to(device),batch_y.to(device)\n",
    "        \n",
    "        sgd.zero_grad()\n",
    "        logits = model(batch_x)\n",
    "        error = critertion(logits,batch_y)\n",
    "        error.backward()\n",
    "        sgd.step()\n",
    "        \n",
    "  \n",
    "    tr_loss,tr_acc = eval(model,critertion,train_dl)\n",
    "    te_loss,te_acc = eval(model,critertion,test_dl)\n",
    "    now = time.time()\n",
    "    print('[%3d/%d, %.f seconds] |\\t train error: %.1e, train acc: %.2f|\\t test error: %.1e, test acc: %.2f'%(\n",
    "        epoch+1,nepochs,now-since,tr_loss,tr_acc,te_loss,te_acc)\n",
    "    )\n",
    "    learn_history.append([tr_loss,tr_acc,te_loss,te_acc])\n",
    "        "
   ]
  },
  {
   "cell_type": "code",
   "execution_count": 25,
   "metadata": {},
   "outputs": [
    {
     "data": {
      "text/plain": [
       "[tensor(96.7934, device='mps:0'),\n",
       " tensor(98.2632, device='mps:0'),\n",
       " tensor(98.4999, device='mps:0'),\n",
       " tensor(99.0014, device='mps:0'),\n",
       " tensor(99.2499, device='mps:0'),\n",
       " tensor(99.3966, device='mps:0'),\n",
       " tensor(99.4032, device='mps:0'),\n",
       " tensor(99.4615, device='mps:0'),\n",
       " tensor(99.5899, device='mps:0'),\n",
       " tensor(99.8800, device='mps:0'),\n",
       " tensor(99.7599, device='mps:0'),\n",
       " tensor(99.6916, device='mps:0'),\n",
       " tensor(99.8550, device='mps:0'),\n",
       " tensor(99.8733, device='mps:0'),\n",
       " tensor(99.7382, device='mps:0'),\n",
       " tensor(99.7916, device='mps:0'),\n",
       " tensor(99.7966, device='mps:0'),\n",
       " tensor(99.7833, device='mps:0'),\n",
       " tensor(99.8249, device='mps:0'),\n",
       " tensor(99.9066, device='mps:0'),\n",
       " tensor(99.9400, device='mps:0'),\n",
       " tensor(99.9350, device='mps:0'),\n",
       " tensor(99.6733, device='mps:0'),\n",
       " tensor(99.7766, device='mps:0'),\n",
       " tensor(99.9516, device='mps:0'),\n",
       " tensor(99.9200, device='mps:0'),\n",
       " tensor(100., device='mps:0'),\n",
       " tensor(100., device='mps:0'),\n",
       " tensor(100., device='mps:0'),\n",
       " tensor(100., device='mps:0')]"
      ]
     },
     "execution_count": 25,
     "metadata": {},
     "output_type": "execute_result"
    }
   ],
   "source": [
    "[t[1] for t in learn_history]"
   ]
  },
  {
   "cell_type": "code",
   "execution_count": 26,
   "metadata": {},
   "outputs": [
    {
     "data": {
      "text/plain": [
       "<matplotlib.legend.Legend at 0x289b7c4d0>"
      ]
     },
     "execution_count": 26,
     "metadata": {},
     "output_type": "execute_result"
    },
    {
     "data": {
      "image/png": "[encoded data removed]",
      "text/plain": [
       "<Figure size 640x480 with 1 Axes>"
      ]
     },
     "metadata": {},
     "output_type": "display_data"
    }
   ],
   "source": [
    "%matplotlib inline\n",
    "import matplotlib.pyplot as plt\n",
    "\n",
    "plt.plot([t[0] for t in learn_history],'r',label='Training')\n",
    "plt.plot([t[1].cpu() for t in learn_history],'b',label='Test')\n",
    "plt.xlabel('Epochs')\n",
    "plt.ylabel('Cross Entropy Loss')\n",
    "plt.legend()\n"
   ]
  },
  {
   "cell_type": "markdown",
   "metadata": {},
   "source": []
  },
  {
   "cell_type": "code",
   "execution_count": 44,
   "metadata": {},
   "outputs": [],
   "source": [
    "import time \n",
    "import math\n",
    "\n",
    "import torch \n",
    "import torch.nn as nn\n",
    "import torch.nn.functional as F\n",
    "\n",
    "import torchvision.datasets as dsets\n",
    "import torchvision.transforms as trans \n",
    "\n",
    "device = torch.device('mps' if torch.backends.mps.is_available() else 'cpu')"
   ]
  },
  {
   "cell_type": "markdown",
   "metadata": {},
   "source": [
    "实现Adam算法的优化器"
   ]
  },
  {
   "cell_type": "code",
   "execution_count": 60,
   "metadata": {},
   "outputs": [],
   "source": [
    "class Adam:\n",
    "    def __init__(self,paras,lr,beta1=0.9, beta2=0.999,eps=1e-8):\n",
    "\n",
    "        self.lr = lr\n",
    "        self.beta1 = beta1\n",
    "        self.beta2 = beta2\n",
    "        self.eps = eps\n",
    "        self.nsteps = 0\n",
    "        \n",
    "        \n",
    "        self.x_state = list(paras)\n",
    "        self.m_state = [t.data.clone().zero_() for t in self.x_state]\n",
    "        self.v_state = [t.data.clone().zero_() for t in self.x_state]\n",
    "\n",
    "    def zero_grad(self):\n",
    "        for x in self.x_state:\n",
    "            if x.grad is not None:\n",
    "                x.grad.detach_()\n",
    "                x.grad.data.zero_()\n",
    "                \n",
    "    def step(self):\n",
    "        self.nsteps += 1\n",
    "        for x,m,v in zip(self.x_state,self.m_state,self.v_state):\n",
    "            if x.grad is None:\n",
    "                continue\n",
    "            g = x.grad.data\n",
    "            m.mul_(self.beta1).add_(g, alpha=1-self.beta1)\n",
    "            v.mul_(self.beta2).addcmul_(g,g,value=1-self.beta2)\n",
    "            m_bias = m/(1-self.beta1**self.nsteps)\n",
    "            v_bias = v/(1-self.beta2**self.nsteps)\n",
    "            x.data.addcdiv_(m_bias,v_bias.sqrt().add_(self.eps),value=-self.lr)\n",
    "            "
   ]
  },
  {
   "cell_type": "markdown",
   "metadata": {},
   "source": [
    "准备数据和网络"
   ]
  },
  {
   "cell_type": "code",
   "execution_count": 61,
   "metadata": {},
   "outputs": [],
   "source": [
    "BATCH_SIZE = 100\n",
    "train_set = dsets.MNIST(root='../data/mnist/',\n",
    "                        transform=trans.ToTensor(),\n",
    "                        train=True)\n",
    "test_set = dsets.MNIST(root='../data/mnist/',\n",
    "                       transform=trans.ToTensor(),\n",
    "                            train=False)\n",
    "train_dl = torch.utils.data.DataLoader(dataset=train_set,\n",
    "                                        batch_size=BATCH_SIZE,\n",
    "                                        shuffle=True,\n",
    "                                        num_workers=6)\n",
    "test_dl = torch.utils.data.DataLoader(dataset=test_set,\n",
    "                                        batch_size=BATCH_SIZE,\n",
    "                                        num_workers=6)"
   ]
  },
  {
   "cell_type": "markdown",
   "metadata": {},
   "source": [
    "辅助函数"
   ]
  },
  {
   "cell_type": "code",
   "execution_count": 62,
   "metadata": {},
   "outputs": [],
   "source": [
    "def eval(model, criterion, dataloader):\n",
    "    loss, accuracy = 0, 0\n",
    "    for batch_x, batch_y in dataloader:\n",
    "        batch_x = batch_x.view(-1, 784)\n",
    "        batch_x, batch_y = batch_x.to(device), batch_y.to(device)\n",
    "\n",
    "        logits = model(batch_x)\n",
    "        error = criterion(logits, batch_y)\n",
    "        loss += error.item()\n",
    "\n",
    "        probs, pred_y = logits.data.max(dim=1)\n",
    "        accuracy += (pred_y == batch_y.data).sum().float() / batch_y.size(0)\n",
    "\n",
    "    loss /= len(dataloader)\n",
    "    accuracy = accuracy * 100.0 / len(dataloader)\n",
    "    return loss, accuracy\n"
   ]
  },
  {
   "cell_type": "markdown",
   "metadata": {},
   "source": [
    "训练"
   ]
  },
  {
   "cell_type": "code",
   "execution_count": 63,
   "metadata": {},
   "outputs": [
    {
     "data": {
      "text/plain": [
       "Sequential(\n",
       "  (0): Linear(in_features=784, out_features=500, bias=True)\n",
       "  (1): ReLU()\n",
       "  (2): Linear(in_features=500, out_features=300, bias=True)\n",
       "  (3): ReLU()\n",
       "  (4): Linear(in_features=300, out_features=10, bias=True)\n",
       ")"
      ]
     },
     "execution_count": 63,
     "metadata": {},
     "output_type": "execute_result"
    }
   ],
   "source": [
    "def weights_init(m):\n",
    "    if isinstance(m, nn.Linear):\n",
    "        nn.init.kaiming_uniform_(m.weight)\n",
    "        nn.init.zeros_(m.bias)\n",
    "\n",
    "model.apply(weights_init)"
   ]
  },
  {
   "cell_type": "code",
   "execution_count": 64,
   "metadata": {},
   "outputs": [
    {
     "name": "stdout",
     "output_type": "stream",
     "text": [
      "[1/20] train error: 1.14e-01, train acc: 96.53 \t test error: 1.24e-01, test acc: 96.04\n",
      "[2/20] train error: 5.96e-02, train acc: 98.23 \t test error: 8.74e-02, test acc: 97.35\n",
      "[3/20] train error: 5.86e-02, train acc: 98.18 \t test error: 9.59e-02, test acc: 96.94\n",
      "[4/20] train error: 3.15e-02, train acc: 98.97 \t test error: 8.15e-02, test acc: 97.53\n",
      "[5/20] train error: 2.15e-02, train acc: 99.27 \t test error: 7.08e-02, test acc: 97.83\n",
      "[6/20] train error: 2.85e-02, train acc: 99.02 \t test error: 8.73e-02, test acc: 97.56\n",
      "[7/20] train error: 2.18e-02, train acc: 99.35 \t test error: 8.94e-02, test acc: 97.67\n",
      "[8/20] train error: 2.03e-02, train acc: 99.30 \t test error: 9.56e-02, test acc: 97.51\n",
      "[9/20] train error: 1.38e-02, train acc: 99.56 \t test error: 9.04e-02, test acc: 97.93\n",
      "[10/20] train error: 1.30e-02, train acc: 99.58 \t test error: 9.41e-02, test acc: 97.96\n",
      "[11/20] train error: 1.17e-02, train acc: 99.61 \t test error: 7.97e-02, test acc: 98.09\n",
      "[12/20] train error: 1.70e-02, train acc: 99.47 \t test error: 1.04e-01, test acc: 97.93\n",
      "[13/20] train error: 1.18e-02, train acc: 99.60 \t test error: 1.01e-01, test acc: 97.90\n",
      "[14/20] train error: 9.76e-03, train acc: 99.70 \t test error: 9.93e-02, test acc: 98.05\n",
      "[15/20] train error: 1.71e-02, train acc: 99.47 \t test error: 1.10e-01, test acc: 97.72\n",
      "[16/20] train error: 1.17e-02, train acc: 99.61 \t test error: 1.07e-01, test acc: 97.83\n",
      "[17/20] train error: 8.01e-03, train acc: 99.71 \t test error: 1.07e-01, test acc: 97.95\n",
      "[18/20] train error: 2.37e-03, train acc: 99.92 \t test error: 9.17e-02, test acc: 98.39\n",
      "[19/20] train error: 9.53e-03, train acc: 99.69 \t test error: 1.02e-01, test acc: 98.08\n",
      "[20/20] train error: 1.27e-02, train acc: 99.60 \t test error: 1.14e-01, test acc: 97.96\n"
     ]
    }
   ],
   "source": [
    "model = nn.Sequential(nn.Linear(784, 500), nn.ReLU(),\n",
    "                        nn.Linear(500, 300), nn.ReLU(),\n",
    "                        nn.Linear(300, 10)).to(device)\n",
    "# 损失函数\n",
    "criterion = nn.CrossEntropyLoss()\n",
    "# 优化器\n",
    "optimizer = Adam(model.parameters(), lr=0.001)\n",
    "\n",
    "#记录\n",
    "learn_history = []\n",
    "# 训练\n",
    "for epoch in range(20):\n",
    "    for batch_x, batch_y in train_dl:\n",
    "        batch_x = batch_x.view(-1, 784)\n",
    "        batch_x, batch_y = batch_x.to(device), batch_y.to(device)\n",
    "\n",
    "        optimizer.zero_grad()\n",
    "        logits = model(batch_x)\n",
    "        error = criterion(logits, batch_y)\n",
    "        error.backward()\n",
    "        optimizer.step()\n",
    "        \n",
    "    tr_loss, tr_acc = eval(model, criterion, train_dl)\n",
    "    te_loss, te_acc = eval(model, criterion, test_dl)\n",
    "    print('[%d/%d] train error: %.2e, train acc: %.2f \\t test error: %.2e, test acc: %.2f' % (\n",
    "        epoch + 1, 20, tr_loss, tr_acc, te_loss, te_acc))\n",
    "    learn_history.append([tr_loss, tr_acc, te_loss, te_acc])"
   ]
  },
  {
   "cell_type": "code",
   "execution_count": 65,
   "metadata": {},
   "outputs": [
    {
     "data": {
      "text/plain": [
       "<matplotlib.legend.Legend at 0x108607550>"
      ]
     },
     "execution_count": 65,
     "metadata": {},
     "output_type": "execute_result"
    },
    {
     "data": {
      "image/png": "[encoded data removed]",
      "text/plain": [
       "<Figure size 640x480 with 1 Axes>"
      ]
     },
     "metadata": {},
     "output_type": "display_data"
    }
   ],
   "source": [
    "%matplotlib inline\n",
    "import matplotlib.pyplot as plt\n",
    "\n",
    "plt.semilogy([t[0] for t in learn_history],'r',label='Training')\n",
    "plt.semilogy([t[1].cpu() for t in learn_history],'b',label='Test')\n",
    "plt.xlabel('Epochs')\n",
    "plt.ylabel('Cross Entropy Loss')\n",
    "plt.legend()"
   ]
  },
  {
   "cell_type": "code",
   "execution_count": null,
   "metadata": {},
   "outputs": [],
   "source": []
  }
 ],
 "metadata": {
  "kernelspec": {
   "display_name": "pytorch",
   "language": "python",
   "name": "python3"
  },
  "language_info": {
   "codemirror_mode": {
    "name": "ipython",
    "version": 3
   },
   "file_extension": ".py",
   "mimetype": "text/x-python",
   "name": "python",
   "nbconvert_exporter": "python",
   "pygments_lexer": "ipython3",
   "version": "3.11.5"
  }
 },
 "nbformat": 4,
 "nbformat_minor": 2
}

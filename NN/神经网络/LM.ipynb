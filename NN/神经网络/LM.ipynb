{
 "cells": [
  {
   "cell_type": "code",
   "execution_count": 38,
   "metadata": {},
   "outputs": [],
   "source": [
    "import numpy as np\n",
    "%matplotlib inline\n",
    "import matplotlib.pyplot as plt\n",
    "\n",
    "import torch\n",
    "\n",
    "import torchvision.datasets as dsets\n",
    "import torchvision.transforms as trans"
   ]
  },
  {
   "cell_type": "code",
   "execution_count": 39,
   "metadata": {},
   "outputs": [],
   "source": [
    "batch_size = 200\n",
    "\n",
    "train_set = dsets.MNIST(root = '../data/mnist/',\n",
    "                        transform= trans.ToTensor(),\n",
    "                        train = True,\n",
    "                        download = True)\n",
    "test_set = dsets.MNIST(root = '../data/mnist/',\n",
    "                       transform = trans.ToTensor(),\n",
    "                       train = False,\n",
    "                       download = True)\n",
    "\n",
    "train_dl = torch.utils.data.DataLoader(train_set,\n",
    "                                        batch_size = batch_size,\n",
    "                                        shuffle = True,\n",
    "                                        num_workers = 4)\n",
    "test_dl = torch.utils.data.DataLoader(test_set,\n",
    "                                        batch_size = batch_size,\n",
    "                                        num_workers = 4)\n"
   ]
  },
  {
   "cell_type": "code",
   "execution_count": 40,
   "metadata": {},
   "outputs": [],
   "source": [
    "from torch.optim import lr_scheduler"
   ]
  },
  {
   "cell_type": "code",
   "execution_count": 41,
   "metadata": {},
   "outputs": [],
   "source": [
    "INPUT_DIM = 28 *28\n",
    "N_CLASSES = 10\n",
    "nsamples = 60000\n",
    "lr = 5e-2\n",
    "nepochs = 20\n",
    "\n",
    "# 模型参数\n",
    "w = torch.rand((INPUT_DIM, N_CLASSES), requires_grad = True)\n",
    "b = torch.zeros((1,N_CLASSES), requires_grad = True)\n",
    "#定义优化算法 Optimizer\n",
    "optimizer = torch.optim.Adam([w,b], lr = lr)\n",
    "\n",
    "#选择学习率下降策略\n",
    "scheduler = lr_scheduler.MultiStepLR(optimizer, milestones = [10], gamma = 0.1)\n"
   ]
  },
  {
   "cell_type": "code",
   "execution_count": 42,
   "metadata": {},
   "outputs": [],
   "source": [
    "# 定义损失函数\n",
    "def Cost(x,y):\n",
    "    pred_y = x.matmul(w) + b # (batch_size, N_CLASSES)\n",
    "    diff = pred_y - y\n",
    "    loss = diff.pow(2).mean()\n",
    "    return loss"
   ]
  },
  {
   "cell_type": "markdown",
   "metadata": {},
   "source": [
    "定义训练所需的辅助函数\n",
    "- 用scatter将label转化成one-hot编码向量"
   ]
  },
  {
   "cell_type": "code",
   "execution_count": 43,
   "metadata": {},
   "outputs": [
    {
     "name": "stdout",
     "output_type": "stream",
     "text": [
      "tensor([[1, 2, 0, 0, 1],\n",
      "        [2, 1, 0, 2, 1]])\n",
      "tensor([[0., 0., 1., 1., 0.],\n",
      "        [1., 1., 0., 0., 1.],\n",
      "        [1., 1., 0., 1., 0.]])\n"
     ]
    }
   ],
   "source": [
    "x = torch.zeros(3,5)\n",
    "index = torch.LongTensor([[1,2,0,0,1],[2,1,0,2,1]])\n",
    "x.scatter_(0, index, 1)\n",
    "\n",
    "print(index)\n",
    "print(x)"
   ]
  },
  {
   "cell_type": "code",
   "execution_count": 44,
   "metadata": {},
   "outputs": [],
   "source": [
    "def create_onehot(x,y):\n",
    "    n = x.size(0)\n",
    "    x = x.view(n,INPUT_DIM)\n",
    "    \n",
    "    y_onehot = torch.zeros(n, N_CLASSES)\n",
    "    y_onehot.scatter_(1, y.view(-1,1), 1)\n",
    "    y = y_onehot\n",
    "    return x,y"
   ]
  },
  {
   "cell_type": "code",
   "execution_count": 45,
   "metadata": {},
   "outputs": [
    {
     "name": "stdout",
     "output_type": "stream",
     "text": [
      "tensor([2, 1, 4])\n",
      "tensor([[2],\n",
      "        [1],\n",
      "        [4]])\n"
     ]
    },
    {
     "data": {
      "text/plain": [
       "tensor([[0., 0., 1., 0., 0.],\n",
       "        [0., 1., 0., 0., 0.],\n",
       "        [0., 0., 0., 0., 1.]])"
      ]
     },
     "execution_count": 45,
     "metadata": {},
     "output_type": "execute_result"
    }
   ],
   "source": [
    "import torch\n",
    "\n",
    "num_classes = 5\n",
    "y = torch.tensor([2, 1, 4])\n",
    "print(y)\n",
    "y_onehot = torch.zeros(y.size(0), num_classes)\n",
    "print(y.view(-1,1))\n",
    "y_onehot.scatter_(1, y.view(-1,1), 1)\n"
   ]
  },
  {
   "cell_type": "code",
   "execution_count": 46,
   "metadata": {},
   "outputs": [
    {
     "name": "stdout",
     "output_type": "stream",
     "text": [
      "torch.Size([2, 784])\n",
      "tensor([[0., 0., 0., 0., 0., 1., 0., 0., 0., 0.],\n",
      "        [0., 1., 0., 0., 0., 0., 0., 0., 0., 0.]])\n"
     ]
    }
   ],
   "source": [
    "x = torch.rand(2,28,28)\n",
    "y = torch.LongTensor([[5],[1]])\n",
    "\n",
    "x,y = create_onehot(x,y)\n",
    "print(x.shape)\n",
    "print(y)"
   ]
  },
  {
   "cell_type": "code",
   "execution_count": 47,
   "metadata": {},
   "outputs": [],
   "source": [
    "def train_epoch(data_loader,optimizer):\n",
    "    error_total = 0\n",
    "    for batch_x, batch_y in data_loader:\n",
    "        x,y = create_onehot(batch_x, batch_y)\n",
    "        \n",
    "        optimizer.zero_grad()\n",
    "        loss = Cost(x,y)\n",
    "        loss.backward() # W.grad, b.grad\n",
    "        optimizer.step()\n",
    "        \n",
    "        error_total += loss.item()\n",
    "    return error_total / len(data_loader)"
   ]
  },
  {
   "cell_type": "code",
   "execution_count": 48,
   "metadata": {},
   "outputs": [
    {
     "name": "stderr",
     "output_type": "stream",
     "text": [
      "/Users/cheng/anaconda3/envs/pytorch/lib/python3.11/site-packages/torch/optim/lr_scheduler.py:143: UserWarning: Detected call of `lr_scheduler.step()` before `optimizer.step()`. In PyTorch 1.1.0 and later, you should call them in the opposite order: `optimizer.step()` before `lr_scheduler.step()`.  Failure to do this will result in PyTorch skipping the first value of the learning rate schedule. See more details at https://pytorch.org/docs/stable/optim.html#how-to-adjust-learning-rate\n",
      "  warnings.warn(\"Detected call of `lr_scheduler.step()` before `optimizer.step()`. \"\n",
      "/Users/cheng/anaconda3/envs/pytorch/lib/python3.11/site-packages/torch/optim/lr_scheduler.py:454: UserWarning: To get the last learning rate computed by the scheduler, please use `get_last_lr()`.\n",
      "  warnings.warn(\"To get the last learning rate computed by the scheduler, \"\n"
     ]
    },
    {
     "name": "stdout",
     "output_type": "stream",
     "text": [
      "Epoch: 0, Train Error: 46.6558, lr: 0.0500\n",
      "Epoch: 1, Train Error: 0.3239, lr: 0.0500\n",
      "Epoch: 2, Train Error: 0.1922, lr: 0.0500\n",
      "Epoch: 3, Train Error: 0.1313, lr: 0.0500\n",
      "Epoch: 4, Train Error: 0.0959, lr: 0.0500\n",
      "Epoch: 5, Train Error: 0.0743, lr: 0.0500\n",
      "Epoch: 6, Train Error: 0.0610, lr: 0.0500\n",
      "Epoch: 7, Train Error: 0.0528, lr: 0.0500\n",
      "Epoch: 8, Train Error: 0.0479, lr: 0.0500\n",
      "Epoch: 9, Train Error: 0.0439, lr: 0.0005\n",
      "Epoch: 10, Train Error: 0.0433, lr: 0.0050\n",
      "Epoch: 11, Train Error: 0.0429, lr: 0.0050\n",
      "Epoch: 12, Train Error: 0.0426, lr: 0.0050\n",
      "Epoch: 13, Train Error: 0.0423, lr: 0.0050\n",
      "Epoch: 14, Train Error: 0.0419, lr: 0.0050\n",
      "Epoch: 15, Train Error: 0.0416, lr: 0.0050\n",
      "Epoch: 16, Train Error: 0.0413, lr: 0.0050\n",
      "Epoch: 17, Train Error: 0.0410, lr: 0.0050\n",
      "Epoch: 18, Train Error: 0.0408, lr: 0.0050\n",
      "Epoch: 19, Train Error: 0.0406, lr: 0.0050\n"
     ]
    }
   ],
   "source": [
    "for epoch in range(nepochs):\n",
    "    scheduler.step()\n",
    "    current_lr = scheduler.get_lr()[0] \n",
    "    error_train = train_epoch(train_dl, optimizer)\n",
    "    print('Epoch: {}, Train Error: {:.4f}, lr: {:.4f}'.format(epoch, error_train, current_lr))"
   ]
  },
  {
   "cell_type": "code",
   "execution_count": 49,
   "metadata": {},
   "outputs": [],
   "source": [
    "def pred(x):\n",
    "    pred_y = x.matmul(w) + b\n",
    "    _,labels = pred_y.max(dim = 1)\n",
    "    return labels\n"
   ]
  },
  {
   "cell_type": "code",
   "execution_count": 50,
   "metadata": {},
   "outputs": [],
   "source": [
    "# 评价函数：计算准确率\n",
    "def evaluate(data_loader):\n",
    "    correct = 0\n",
    "    total = 0\n",
    "    for batch_x, batch_y in data_loader:\n",
    "        x,y = create_onehot(batch_x, batch_y)\n",
    "        pred_y = pred(x)\n",
    "        correct += (pred_y == batch_y).float().sum()\n",
    "        total += batch_x.size(0)\n",
    "    accuracy = 100.0*correct / total\n",
    "    return accuracy"
   ]
  },
  {
   "cell_type": "code",
   "execution_count": 51,
   "metadata": {},
   "outputs": [
    {
     "data": {
      "text/plain": [
       "tensor(85.4600)"
      ]
     },
     "execution_count": 51,
     "metadata": {},
     "output_type": "execute_result"
    }
   ],
   "source": [
    "evaluate(test_dl)"
   ]
  },
  {
   "cell_type": "code",
   "execution_count": 52,
   "metadata": {},
   "outputs": [
    {
     "data": {
      "image/png": "[encoded data removed]",
      "text/plain": [
       "<Figure size 2000x500 with 7 Axes>"
      ]
     },
     "metadata": {},
     "output_type": "display_data"
    }
   ],
   "source": [
    "for X,y in test_dl:\n",
    "    break\n",
    "X = X.view(-1, 784)\n",
    "pred_y = pred(X)\n",
    "\n",
    "plt.figure(figsize = (20,5))\n",
    "for i in range(7):\n",
    "    plt.subplot(1,7,i+1)\n",
    "    img = X[i+50].squeeze().view(28,28).numpy()\n",
    "    plt.imshow(img,cmap='gray')\n",
    "    plt.title(f'truth: {y[i+50]}, pred: {pred_y[i+50]}')\n",
    "    plt.axis('off')"
   ]
  },
  {
   "cell_type": "code",
   "execution_count": null,
   "metadata": {},
   "outputs": [],
   "source": []
  },
  {
   "cell_type": "code",
   "execution_count": 64,
   "metadata": {},
   "outputs": [],
   "source": [
    "import torch \n",
    "import torch.nn as nn\n",
    "\n",
    "import torchvision.datasets as dsets\n",
    "import torchvision.transforms as trans \n",
    "from torch.optim import lr_scheduler\n",
    "\n",
    "batch_size = 500\n",
    "INPUT_DIM = 28 *28\n",
    "N_CLASSES = 10\n",
    "nepochs = 20\n",
    "lr = 1e-1"
   ]
  },
  {
   "cell_type": "code",
   "execution_count": 65,
   "metadata": {},
   "outputs": [],
   "source": [
    "train_set = dsets.MNIST(root = '../data/mnist/',\n",
    "                        transform = trans.ToTensor(),\n",
    "                        train = True)\n",
    "test_set = dsets.MNIST(root = '../data/mnist/',\n",
    "                       transform = trans.ToTensor(),\n",
    "                          train = False)\n",
    "\n",
    "train_dl = torch.utils.data.DataLoader(train_set,\n",
    "                                        batch_size = batch_size,\n",
    "                                        shuffle = True\n",
    "                                        )\n",
    "test_dl = torch.utils.data.DataLoader(test_set,\n",
    "                                        batch_size = batch_size)\n",
    "\n",
    "                                        \n",
    "                        "
   ]
  },
  {
   "cell_type": "markdown",
   "metadata": {},
   "source": [
    "逻辑回归模型"
   ]
  },
  {
   "cell_type": "code",
   "execution_count": 85,
   "metadata": {},
   "outputs": [
    {
     "name": "stdout",
     "output_type": "stream",
     "text": [
      "网络结构如下:\n",
      " LogisticRegression(\n",
      "  (linear): Linear(in_features=784, out_features=10, bias=True)\n",
      ")\n"
     ]
    }
   ],
   "source": [
    "class LogisticRegression(nn.Module):\n",
    "    def __init__(self, input_dim, out_dim):\n",
    "        super(LogisticRegression, self).__init__()\n",
    "        self.linear = nn.Linear(input_dim, out_dim)\n",
    "        \n",
    "    def forward(self, x):\n",
    "        out = x.view(-1,784)\n",
    "        out = self.linear(out)\n",
    "        return out\n",
    "    \n",
    "model = LogisticRegression(INPUT_DIM, N_CLASSES)\n",
    "print('网络结构如下:\\n',model)"
   ]
  },
  {
   "cell_type": "code",
   "execution_count": 86,
   "metadata": {},
   "outputs": [],
   "source": [
    "# 交叉损失函数\n",
    "criterion = nn.CrossEntropyLoss()\n",
    "# 优化器\n",
    "optimizer = torch.optim.Adam(model.parameters(), lr = lr)\n",
    "scheduler = lr_scheduler.MultiStepLR(optimizer, milestones = [10], gamma = 0.2)"
   ]
  },
  {
   "cell_type": "markdown",
   "metadata": {},
   "source": [
    "评价函数"
   ]
  },
  {
   "cell_type": "code",
   "execution_count": 88,
   "metadata": {},
   "outputs": [],
   "source": [
    "def eval(model,criterion, data_loader):\n",
    "    loss,accuracy = 0,0\n",
    "    for bx, by in data_loader:\n",
    "        logit = model(bx)\n",
    "        err = criterion(logit, by)\n",
    "        loss += err.item()\n",
    "        \n",
    "        \n",
    "        _,pred_y = logit.max(dim = 1)\n",
    "        accuracy += (pred_y.data == by).float().sum()/by.size(0)\n",
    "        \n",
    "    loss /= len(data_loader)\n",
    "    accuracy /= len(data_loader)\n",
    "    return loss, 100.0 * accuracy\n",
    "        \n",
    "    \n",
    "\n"
   ]
  },
  {
   "cell_type": "code",
   "execution_count": 89,
   "metadata": {},
   "outputs": [
    {
     "name": "stderr",
     "output_type": "stream",
     "text": [
      "/Users/cheng/anaconda3/envs/pytorch/lib/python3.11/site-packages/torch/optim/lr_scheduler.py:143: UserWarning: Detected call of `lr_scheduler.step()` before `optimizer.step()`. In PyTorch 1.1.0 and later, you should call them in the opposite order: `optimizer.step()` before `lr_scheduler.step()`.  Failure to do this will result in PyTorch skipping the first value of the learning rate schedule. See more details at https://pytorch.org/docs/stable/optim.html#how-to-adjust-learning-rate\n",
      "  warnings.warn(\"Detected call of `lr_scheduler.step()` before `optimizer.step()`. \"\n"
     ]
    },
    {
     "name": "stdout",
     "output_type": "stream",
     "text": [
      "Epoch: 0, Train Loss: 0.3386, Train Acc: 91.61%, Test Loss: 0.3589, Test Acc: 91.35%\n",
      "Epoch: 1, Train Loss: 0.3646, Train Acc: 90.38%, Test Loss: 0.4247, Test Acc: 89.61%\n",
      "Epoch: 2, Train Loss: 0.3319, Train Acc: 91.70%, Test Loss: 0.3961, Test Acc: 91.04%\n",
      "Epoch: 3, Train Loss: 0.3282, Train Acc: 91.90%, Test Loss: 0.4073, Test Acc: 91.44%\n",
      "Epoch: 4, Train Loss: 0.3936, Train Acc: 90.13%, Test Loss: 0.4565, Test Acc: 89.66%\n",
      "Epoch: 5, Train Loss: 0.3692, Train Acc: 91.32%, Test Loss: 0.4390, Test Acc: 90.86%\n",
      "Epoch: 6, Train Loss: 0.3626, Train Acc: 91.42%, Test Loss: 0.4819, Test Acc: 90.16%\n",
      "Epoch: 7, Train Loss: 0.3928, Train Acc: 90.36%, Test Loss: 0.5028, Test Acc: 89.56%\n",
      "Epoch: 8, Train Loss: 0.3460, Train Acc: 91.91%, Test Loss: 0.4620, Test Acc: 90.91%\n",
      "Epoch: 9, Train Loss: 0.2543, Train Acc: 93.60%, Test Loss: 0.3812, Test Acc: 91.92%\n",
      "Epoch: 10, Train Loss: 0.2495, Train Acc: 93.30%, Test Loss: 0.3779, Test Acc: 91.59%\n",
      "Epoch: 11, Train Loss: 0.2368, Train Acc: 93.65%, Test Loss: 0.3558, Test Acc: 92.10%\n",
      "Epoch: 12, Train Loss: 0.2355, Train Acc: 93.78%, Test Loss: 0.3541, Test Acc: 92.10%\n",
      "Epoch: 13, Train Loss: 0.2322, Train Acc: 93.66%, Test Loss: 0.3466, Test Acc: 91.87%\n",
      "Epoch: 14, Train Loss: 0.2296, Train Acc: 93.66%, Test Loss: 0.3473, Test Acc: 92.09%\n",
      "Epoch: 15, Train Loss: 0.2345, Train Acc: 93.56%, Test Loss: 0.3438, Test Acc: 92.11%\n",
      "Epoch: 16, Train Loss: 0.2436, Train Acc: 93.29%, Test Loss: 0.3570, Test Acc: 91.66%\n",
      "Epoch: 17, Train Loss: 0.2252, Train Acc: 93.84%, Test Loss: 0.3468, Test Acc: 92.12%\n",
      "Epoch: 18, Train Loss: 0.2380, Train Acc: 93.38%, Test Loss: 0.3549, Test Acc: 91.67%\n",
      "Epoch: 19, Train Loss: 0.2308, Train Acc: 93.49%, Test Loss: 0.3558, Test Acc: 91.47%\n"
     ]
    }
   ],
   "source": [
    "for epoch in range(nepochs):\n",
    "    scheduler.step()\n",
    "    for bx, by in train_dl:\n",
    "        optimizer.zero_grad()\n",
    "        logit = model(bx)\n",
    "        err = criterion(logit, by)\n",
    "        err.backward()\n",
    "        optimizer.step()\n",
    "        \n",
    "    loss_train, acc_train = eval(model, criterion,train_dl)\n",
    "    loss_test, acc_test = eval(model, criterion,test_dl)\n",
    "    print('Epoch: {}, Train Loss: {:.4f}, Train Acc: {:.2f}%, Test Loss: {:.4f}, Test Acc: {:.2f}%'.format(epoch, loss_train, acc_train, loss_test, acc_test))\n"
   ]
  },
  {
   "cell_type": "code",
   "execution_count": null,
   "metadata": {},
   "outputs": [],
   "source": []
  },
  {
   "cell_type": "code",
   "execution_count": null,
   "metadata": {},
   "outputs": [],
   "source": []
  },
  {
   "cell_type": "code",
   "execution_count": null,
   "metadata": {},
   "outputs": [],
   "source": []
  },
  {
   "cell_type": "code",
   "execution_count": null,
   "metadata": {},
   "outputs": [],
   "source": []
  }
 ],
 "metadata": {
  "kernelspec": {
   "display_name": "pytorch",
   "language": "python",
   "name": "python3"
  },
  "language_info": {
   "codemirror_mode": {
    "name": "ipython",
    "version": 3
   },
   "file_extension": ".py",
   "mimetype": "text/x-python",
   "name": "python",
   "nbconvert_exporter": "python",
   "pygments_lexer": "ipython3",
   "version": "3.11.5"
  }
 },
 "nbformat": 4,
 "nbformat_minor": 2
}

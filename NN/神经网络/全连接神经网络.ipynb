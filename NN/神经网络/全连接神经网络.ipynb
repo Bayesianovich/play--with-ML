{
 "cells": [
  {
   "cell_type": "code",
   "execution_count": 1,
   "metadata": {},
   "outputs": [],
   "source": [
    "import time \n",
    "import math\n",
    "\n",
    "import torch \n",
    "import torch.nn as nn\n",
    "import torch.nn.functional as F\n",
    "\n",
    "import torchvision.datasets as dsets\n",
    "import torchvision.transforms as trans"
   ]
  },
  {
   "cell_type": "code",
   "execution_count": 2,
   "metadata": {},
   "outputs": [],
   "source": [
    "device = torch.device('mps')"
   ]
  },
  {
   "cell_type": "code",
   "execution_count": 3,
   "metadata": {},
   "outputs": [],
   "source": [
    "batch_size = 100\n",
    "\n",
    "train_set = dsets.MNIST(root='../data/mnist/',\n",
    "                        transform=trans.ToTensor(),\n",
    "                        train=True)\n",
    "test_set = dsets.MNIST(root='../data/mnist/',\n",
    "                       transform=trans.ToTensor(),\n",
    "                          train=False)\n",
    "train_dl = torch.utils.data.DataLoader(dataset=train_set,\n",
    "                                        batch_size=batch_size,\n",
    "                                        shuffle=True,\n",
    "                                        num_workers=6)\n",
    "test_dl = torch.utils.data.DataLoader(dataset=test_set,\n",
    "                                        batch_size=batch_size,\n",
    "                                        num_workers=6)"
   ]
  },
  {
   "cell_type": "code",
   "execution_count": 4,
   "metadata": {},
   "outputs": [],
   "source": [
    "class FNN(nn.Module):\n",
    "    def __init__(self):\n",
    "        super(FNN,self).__init__()\n",
    "        self.fc1 = nn.Linear(28*28, 500)\n",
    "        self.fc2 = nn.Linear(500, 300)\n",
    "        self.fc3 = nn.Linear(300, 10)\n",
    "        \n",
    "    def forward(self,x):\n",
    "        x = x.view(-1,28*28)\n",
    "        x = F.relu(self.fc1(x))\n",
    "        x = F.relu(self.fc2(x))\n",
    "        x = self.fc3(x)\n",
    "        return x\n",
    "    "
   ]
  },
  {
   "cell_type": "code",
   "execution_count": 5,
   "metadata": {},
   "outputs": [
    {
     "name": "stdout",
     "output_type": "stream",
     "text": [
      "torch.Size([3, 10])\n"
     ]
    }
   ],
   "source": [
    "net = FNN()\n",
    "x = torch.randn(3,1,28,28)\n",
    "y = net(x)\n",
    "print(y.size())"
   ]
  },
  {
   "cell_type": "code",
   "execution_count": 6,
   "metadata": {},
   "outputs": [
    {
     "name": "stdout",
     "output_type": "stream",
     "text": [
      "FNN(\n",
      "  (fc1): Linear(in_features=784, out_features=500, bias=True)\n",
      "  (fc2): Linear(in_features=500, out_features=300, bias=True)\n",
      "  (fc3): Linear(in_features=300, out_features=10, bias=True)\n",
      ")\n"
     ]
    }
   ],
   "source": [
    "print(net)"
   ]
  },
  {
   "cell_type": "markdown",
   "metadata": {},
   "source": [
    "通过nn.Sequential搭建网络"
   ]
  },
  {
   "cell_type": "code",
   "execution_count": 10,
   "metadata": {},
   "outputs": [],
   "source": [
    "net2 = nn.Sequential(nn.Linear(28*28, 500),\n",
    "                     nn.ReLU(),\n",
    "                     nn.Linear(500, 300),\n",
    "                     nn.ReLU(),\n",
    "                     nn.Linear(300, 10),\n",
    "                     nn.Softmax(dim=1))"
   ]
  },
  {
   "cell_type": "code",
   "execution_count": 11,
   "metadata": {},
   "outputs": [
    {
     "name": "stdout",
     "output_type": "stream",
     "text": [
      "torch.Size([3, 10])\n"
     ]
    }
   ],
   "source": [
    "x = torch.rand(3,784)\n",
    "y = net2(x)\n",
    "print(y.size())"
   ]
  },
  {
   "cell_type": "code",
   "execution_count": 12,
   "metadata": {},
   "outputs": [],
   "source": [
    "def eval(model,criterion,dataloader):\n",
    "    loss,accuracy = 0,0\n",
    "    for bx,by in dataloader:\n",
    "        bx,by = bx.to(device),by.to(device)\n",
    "        logit = model(bx)\n",
    "        error = criterion(logit,by)\n",
    "        loss += error.item()\n",
    "        \n",
    "        _,pred_y = logit.max(dim=1)\n",
    "        acc = (pred_y.data==by).float().sum()/by.size(0)\n",
    "        accuracy += acc \n",
    "        \n",
    "    loss /= len(dataloader)\n",
    "    accuracy /= len(dataloader)\n",
    "    return loss,accuracy"
   ]
  },
  {
   "cell_type": "code",
   "execution_count": 13,
   "metadata": {},
   "outputs": [],
   "source": [
    "net = FNN().to(device)\n",
    "criterion = nn.CrossEntropyLoss()\n",
    "optimizer = torch.optim.Adam(net.parameters(),lr=0.001)"
   ]
  },
  {
   "cell_type": "code",
   "execution_count": 15,
   "metadata": {},
   "outputs": [
    {
     "name": "stdout",
     "output_type": "stream",
     "text": [
      "[1/20, 7 seconds] Train Loss: 0.113, Accuracy: 0.966 | Test Loss: 0.118, Accuracy: 0.962\n",
      "[2/20, 6 seconds] Train Loss: 0.062, Accuracy: 0.981 | Test Loss: 0.084, Accuracy: 0.972\n",
      "[3/20, 5 seconds] Train Loss: 0.044, Accuracy: 0.986 | Test Loss: 0.078, Accuracy: 0.976\n",
      "[4/20, 5 seconds] Train Loss: 0.028, Accuracy: 0.991 | Test Loss: 0.067, Accuracy: 0.980\n",
      "[5/20, 5 seconds] Train Loss: 0.020, Accuracy: 0.994 | Test Loss: 0.060, Accuracy: 0.983\n",
      "[6/20, 5 seconds] Train Loss: 0.020, Accuracy: 0.993 | Test Loss: 0.075, Accuracy: 0.979\n",
      "[7/20, 5 seconds] Train Loss: 0.022, Accuracy: 0.993 | Test Loss: 0.082, Accuracy: 0.979\n",
      "[8/20, 5 seconds] Train Loss: 0.020, Accuracy: 0.993 | Test Loss: 0.087, Accuracy: 0.978\n",
      "[9/20, 5 seconds] Train Loss: 0.012, Accuracy: 0.996 | Test Loss: 0.077, Accuracy: 0.983\n",
      "[10/20, 5 seconds] Train Loss: 0.012, Accuracy: 0.996 | Test Loss: 0.080, Accuracy: 0.982\n",
      "[11/20, 5 seconds] Train Loss: 0.009, Accuracy: 0.997 | Test Loss: 0.079, Accuracy: 0.982\n",
      "[12/20, 5 seconds] Train Loss: 0.005, Accuracy: 0.998 | Test Loss: 0.072, Accuracy: 0.984\n",
      "[13/20, 5 seconds] Train Loss: 0.012, Accuracy: 0.996 | Test Loss: 0.092, Accuracy: 0.980\n",
      "[14/20, 5 seconds] Train Loss: 0.007, Accuracy: 0.998 | Test Loss: 0.091, Accuracy: 0.982\n",
      "[15/20, 6 seconds] Train Loss: 0.012, Accuracy: 0.996 | Test Loss: 0.103, Accuracy: 0.980\n",
      "[16/20, 5 seconds] Train Loss: 0.005, Accuracy: 0.998 | Test Loss: 0.094, Accuracy: 0.982\n",
      "[17/20, 6 seconds] Train Loss: 0.013, Accuracy: 0.996 | Test Loss: 0.104, Accuracy: 0.980\n",
      "[18/20, 6 seconds] Train Loss: 0.012, Accuracy: 0.996 | Test Loss: 0.107, Accuracy: 0.981\n",
      "[19/20, 5 seconds] Train Loss: 0.006, Accuracy: 0.998 | Test Loss: 0.092, Accuracy: 0.982\n",
      "[20/20, 7 seconds] Train Loss: 0.004, Accuracy: 0.999 | Test Loss: 0.085, Accuracy: 0.984\n"
     ]
    }
   ],
   "source": [
    "for epoch in range(20):\n",
    "    since = time.time()\n",
    "    for batch_x, batch_y in train_dl:\n",
    "        batch_x, batch_y = batch_x.to(device), batch_y.to(device)\n",
    "        optimizer.zero_grad()\n",
    "        \n",
    "        logit = net(batch_x)\n",
    "        error = criterion(logit,batch_y)\n",
    "        error.backward()\n",
    "        \n",
    "        optimizer.step()\n",
    "        \n",
    "    now = time.time()\n",
    "    train_loss, train_acc = eval(net,criterion,train_dl)\n",
    "    test_loss, test_acc = eval(net,criterion,test_dl)\n",
    "    print('[%d/%d, %.0f seconds] Train Loss: %.3f, Accuracy: %.3f | Test Loss: %.3f, Accuracy: %.3f' % (epoch+1, 20, now-since, train_loss, train_acc, test_loss, test_acc))\n",
    "    "
   ]
  },
  {
   "cell_type": "markdown",
   "metadata": {},
   "source": [
    "初始化"
   ]
  },
  {
   "cell_type": "code",
   "execution_count": 19,
   "metadata": {},
   "outputs": [],
   "source": [
    "for name, para in net.named_parameters():\n",
    "    if name.find('weight') != -1:\n",
    "        n_o,n_i = param.size()\n",
    "        para.data.normal_(0,math.sqrt(2/n_i))\n",
    "    if name.find('bias') != -1:\n",
    "        param.data.zero_()"
   ]
  },
  {
   "cell_type": "code",
   "execution_count": 20,
   "metadata": {},
   "outputs": [],
   "source": [
    "for name,para in net.named_parameters():\n",
    "    if name.find('weight') != -1:\n",
    "        nn.init.kaiming_normal_(para)\n",
    "    if name.find('bias') != -1:\n",
    "        nn.init.zeros_(para)"
   ]
  },
  {
   "cell_type": "code",
   "execution_count": 21,
   "metadata": {},
   "outputs": [
    {
     "name": "stdout",
     "output_type": "stream",
     "text": [
      "FNN(\n",
      "  (fc1): Linear(in_features=784, out_features=500, bias=True)\n",
      "  (fc2): Linear(in_features=500, out_features=300, bias=True)\n",
      "  (fc3): Linear(in_features=300, out_features=10, bias=True)\n",
      ")\n",
      "Linear(in_features=784, out_features=500, bias=True)\n",
      "Linear(in_features=500, out_features=300, bias=True)\n",
      "Linear(in_features=300, out_features=10, bias=True)\n"
     ]
    }
   ],
   "source": [
    "for m in net.modules():\n",
    "   print(m)"
   ]
  },
  {
   "cell_type": "code",
   "execution_count": 22,
   "metadata": {},
   "outputs": [
    {
     "data": {
      "text/plain": [
       "Linear(in_features=784, out_features=500, bias=True)"
      ]
     },
     "execution_count": 22,
     "metadata": {},
     "output_type": "execute_result"
    }
   ],
   "source": [
    "modules = list(net.modules())\n",
    "modules[1]"
   ]
  },
  {
   "cell_type": "code",
   "execution_count": 23,
   "metadata": {},
   "outputs": [
    {
     "data": {
      "text/plain": [
       "Parameter containing:\n",
       "tensor([[-0.0202,  0.0355, -0.0444,  ..., -0.0597, -0.0940, -0.0544],\n",
       "        [ 0.0164, -0.0343,  0.0212,  ...,  0.0313,  0.0141,  0.0468],\n",
       "        [ 0.0315, -0.0028,  0.0563,  ..., -0.0886,  0.0196,  0.0329],\n",
       "        ...,\n",
       "        [ 0.0901,  0.0793, -0.0329,  ...,  0.0721, -0.0240, -0.0314],\n",
       "        [ 0.0261, -0.0667, -0.0552,  ..., -0.0642,  0.0618,  0.0185],\n",
       "        [-0.0226,  0.0246, -0.0435,  ...,  0.0253,  0.1846, -0.0354]],\n",
       "       device='mps:0', requires_grad=True)"
      ]
     },
     "execution_count": 23,
     "metadata": {},
     "output_type": "execute_result"
    }
   ],
   "source": [
    "modules[1].weight"
   ]
  },
  {
   "cell_type": "code",
   "execution_count": null,
   "metadata": {},
   "outputs": [],
   "source": []
  }
 ],
 "metadata": {
  "kernelspec": {
   "display_name": "pytorch",
   "language": "python",
   "name": "python3"
  },
  "language_info": {
   "codemirror_mode": {
    "name": "ipython",
    "version": 3
   },
   "file_extension": ".py",
   "mimetype": "text/x-python",
   "name": "python",
   "nbconvert_exporter": "python",
   "pygments_lexer": "ipython3",
   "version": "3.11.5"
  }
 },
 "nbformat": 4,
 "nbformat_minor": 2
}

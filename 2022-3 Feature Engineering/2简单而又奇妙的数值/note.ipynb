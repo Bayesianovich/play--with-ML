{
 "cells": [
  {
   "cell_type": "code",
   "execution_count": 36,
   "metadata": {},
   "outputs": [],
   "source": [
    "# 通过固定宽度分箱对计数值进行区间量化\n",
    "import numpy as np\n"
   ]
  },
  {
   "cell_type": "code",
   "execution_count": 37,
   "metadata": {},
   "outputs": [
    {
     "data": {
      "text/plain": [
       "array([58, 66, 13, 46, 35, 64, 48, 50, 25, 19, 51, 70, 79, 42, 22, 80, 18,\n",
       "       81, 38, 72])"
      ]
     },
     "execution_count": 37,
     "metadata": {},
     "output_type": "execute_result"
    }
   ],
   "source": [
    "# 生成20个随机整数，均匀分布在0-99之间\n",
    "small_counts = np.random.randint(0, 100, 20)\n",
    "small_counts\n"
   ]
  },
  {
   "cell_type": "code",
   "execution_count": 38,
   "metadata": {},
   "outputs": [
    {
     "data": {
      "text/plain": [
       "array([5, 6, 1, 4, 3, 6, 4, 5, 2, 1, 5, 7, 7, 4, 2, 8, 1, 8, 3, 7],\n",
       "      dtype=int32)"
      ]
     },
     "execution_count": 38,
     "metadata": {},
     "output_type": "execute_result"
    }
   ],
   "source": [
    "# 通过除法映射到间隔均匀的分箱中，每个分箱的取值范围都是0-9\n",
    "np.floor_divide(small_counts, 10)\n"
   ]
  },
  {
   "cell_type": "code",
   "execution_count": 39,
   "metadata": {},
   "outputs": [
    {
     "data": {
      "text/plain": [
       "array([2., 3., 4., 1., 0., 2., 2., 3., 3., 4., 4., 1., 1., 3., 2., 2., 4.])"
      ]
     },
     "execution_count": 39,
     "metadata": {},
     "output_type": "execute_result"
    }
   ],
   "source": [
    "# 横跨若干数量级的计数值数箱\n",
    "large_counts = [296, 8286, 64011, 80, 3, 725, 867, 2215, 7689, 11495, 91897,\n",
    "                44, 28, 7971, 926, 122, 22222]\n",
    "#通过对数函数映射到指数宽度分箱\n",
    "np.floor(np.log10(large_counts))"
   ]
  },
  {
   "cell_type": "code",
   "execution_count": 40,
   "metadata": {},
   "outputs": [
    {
     "data": {
      "text/plain": [
       "array([1, 2, 3, 0, 0, 1, 1, 2, 2, 3, 3, 0, 0, 2, 1, 0, 3], dtype=int64)"
      ]
     },
     "execution_count": 40,
     "metadata": {},
     "output_type": "execute_result"
    }
   ],
   "source": [
    "import pandas as pd\n",
    "# 将计数值映射为分位数\n",
    "pd.qcut(large_counts, q=4, labels=False)\n"
   ]
  },
  {
   "cell_type": "code",
   "execution_count": 41,
   "metadata": {},
   "outputs": [
    {
     "data": {
      "text/plain": [
       "0.25     122.0\n",
       "0.50     926.0\n",
       "0.75    8286.0\n",
       "dtype: float64"
      ]
     },
     "execution_count": 41,
     "metadata": {},
     "output_type": "execute_result"
    }
   ],
   "source": [
    "large_counts_series = pd.Series(large_counts)\n",
    "large_counts_series.quantile([0.25, 0.5, 0.75])"
   ]
  },
  {
   "cell_type": "code",
   "execution_count": 44,
   "metadata": {},
   "outputs": [
    {
     "name": "stdout",
     "output_type": "stream",
     "text": [
      "Help on function qcut in module pandas.core.reshape.tile:\n",
      "\n",
      "qcut(x, q, labels=None, retbins: bool = False, precision: int = 3, duplicates: str = 'raise')\n",
      "    Quantile-based discretization function.\n",
      "    \n",
      "    Discretize variable into equal-sized buckets based on rank or based\n",
      "    on sample quantiles. For example 1000 values for 10 quantiles would\n",
      "    produce a Categorical object indicating quantile membership for each data point.\n",
      "    \n",
      "    Parameters\n",
      "    ----------\n",
      "    x : 1d ndarray or Series\n",
      "    q : int or list-like of float\n",
      "        Number of quantiles. 10 for deciles, 4 for quartiles, etc. Alternately\n",
      "        array of quantiles, e.g. [0, .25, .5, .75, 1.] for quartiles.\n",
      "    labels : array or False, default None\n",
      "        Used as labels for the resulting bins. Must be of the same length as\n",
      "        the resulting bins. If False, return only integer indicators of the\n",
      "        bins. If True, raises an error.\n",
      "    retbins : bool, optional\n",
      "        Whether to return the (bins, labels) or not. Can be useful if bins\n",
      "        is given as a scalar.\n",
      "    precision : int, optional\n",
      "        The precision at which to store and display the bins labels.\n",
      "    duplicates : {default 'raise', 'drop'}, optional\n",
      "        If bin edges are not unique, raise ValueError or drop non-uniques.\n",
      "    \n",
      "    Returns\n",
      "    -------\n",
      "    out : Categorical or Series or array of integers if labels is False\n",
      "        The return type (Categorical or Series) depends on the input: a Series\n",
      "        of type category if input is a Series else Categorical. Bins are\n",
      "        represented as categories when categorical data is returned.\n",
      "    bins : ndarray of floats\n",
      "        Returned only if `retbins` is True.\n",
      "    \n",
      "    Notes\n",
      "    -----\n",
      "    Out of bounds values will be NA in the resulting Categorical object\n",
      "    \n",
      "    Examples\n",
      "    --------\n",
      "    >>> pd.qcut(range(5), 4)\n",
      "    ... # doctest: +ELLIPSIS\n",
      "    [(-0.001, 1.0], (-0.001, 1.0], (1.0, 2.0], (2.0, 3.0], (3.0, 4.0]]\n",
      "    Categories (4, interval[float64, right]): [(-0.001, 1.0] < (1.0, 2.0] ...\n",
      "    \n",
      "    >>> pd.qcut(range(5), 3, labels=[\"good\", \"medium\", \"bad\"])\n",
      "    ... # doctest: +SKIP\n",
      "    [good, good, medium, bad, bad]\n",
      "    Categories (3, object): [good < medium < bad]\n",
      "    \n",
      "    >>> pd.qcut(range(5), 4, labels=False)\n",
      "    array([0, 0, 1, 2, 3])\n",
      "\n"
     ]
    }
   ],
   "source": [
    "help(pd.qcut)"
   ]
  },
  {
   "cell_type": "code",
   "execution_count": null,
   "metadata": {},
   "outputs": [],
   "source": []
  },
  {
   "cell_type": "code",
   "execution_count": null,
   "metadata": {},
   "outputs": [],
   "source": []
  },
  {
   "cell_type": "code",
   "execution_count": null,
   "metadata": {},
   "outputs": [],
   "source": []
  },
  {
   "cell_type": "code",
   "execution_count": null,
   "metadata": {},
   "outputs": [],
   "source": []
  },
  {
   "cell_type": "code",
   "execution_count": null,
   "metadata": {},
   "outputs": [],
   "source": []
  },
  {
   "cell_type": "code",
   "execution_count": null,
   "metadata": {},
   "outputs": [],
   "source": []
  },
  {
   "cell_type": "code",
   "execution_count": null,
   "metadata": {},
   "outputs": [],
   "source": []
  },
  {
   "cell_type": "code",
   "execution_count": null,
   "metadata": {},
   "outputs": [],
   "source": []
  },
  {
   "cell_type": "code",
   "execution_count": null,
   "metadata": {},
   "outputs": [],
   "source": []
  },
  {
   "cell_type": "code",
   "execution_count": null,
   "metadata": {},
   "outputs": [],
   "source": []
  }
 ],
 "metadata": {
  "interpreter": {
   "hash": "dcb604d2064d267903aff93d60be1cda898b5c2541936bbbe6aa0a22a6f03fb3"
  },
  "kernelspec": {
   "display_name": "Python 3.8.8 ('base')",
   "language": "python",
   "name": "python3"
  },
  "language_info": {
   "codemirror_mode": {
    "name": "ipython",
    "version": 3
   },
   "file_extension": ".py",
   "mimetype": "text/x-python",
   "name": "python",
   "nbconvert_exporter": "python",
   "pygments_lexer": "ipython3",
   "version": "3.8.8"
  },
  "orig_nbformat": 4
 },
 "nbformat": 4,
 "nbformat_minor": 2
}
